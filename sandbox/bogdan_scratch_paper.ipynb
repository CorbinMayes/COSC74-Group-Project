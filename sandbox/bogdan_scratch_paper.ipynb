{
 "cells": [
  {
   "cell_type": "code",
   "execution_count": 19,
   "metadata": {},
   "outputs": [],
   "source": [
    "import json\n",
    "\n",
    "from nltk.tokenize import RegexpTokenizer\n",
    "from nltk.corpus import stopwords\n",
    "from nltk.stem.porter import PorterStemmer\n",
    "from nltk import bigrams\n",
    "import itertools\n"
   ]
  },
  {
   "cell_type": "code",
   "execution_count": 2,
   "metadata": {},
   "outputs": [],
   "source": [
    "list = []\n",
    "for line in open('../data/Sports_and_Outdoors_Reviews_training.json', 'r'):\n",
    "    list.append(json.loads(line))"
   ]
  },
  {
   "cell_type": "code",
   "execution_count": 13,
   "metadata": {},
   "outputs": [],
   "source": [
    "# create a list, doc_list, with one review per elem\n",
    "doc_list = []\n",
    "rating = []\n",
    "for i in range(0,len(list)):\n",
    "    if list[i].get('reviewText'): #not all reviews have text\n",
    "        rating.append(list[i].get('overall'))\n",
    "        doc_list.append(list[i].get('reviewText'))"
   ]
  },
  {
   "cell_type": "code",
   "execution_count": 4,
   "metadata": {},
   "outputs": [],
   "source": [
    "def preprocess_data(doc_set):\n",
    "    \"\"\"\n",
    "    Input  : docuemnt list\n",
    "    Purpose: preprocess text (tokenize, removing stopwords, and stemming)\n",
    "    Output : preprocessed text\n",
    "    \"\"\"\n",
    "    # initialize regex tokenizer\n",
    "    tokenizer = RegexpTokenizer(r'\\w+')\n",
    "    # create English stop words list\n",
    "    en_stop = set(stopwords.words('english'))\n",
    "    # Create p_stemmer of class PorterStemmer\n",
    "    p_stemmer = PorterStemmer()\n",
    "    # list for tokenized documents in loop\n",
    "    texts = []\n",
    "    # loop through document list\n",
    "    for i in doc_set:\n",
    "        # clean and tokenize document string\n",
    "        raw = i.lower()\n",
    "        tokens = tokenizer.tokenize(raw)\n",
    "        # remove stop words from tokens\n",
    "        stopped_tokens = [i for i in tokens if not i in en_stop]\n",
    "        # stem tokens\n",
    "        stemmed_tokens = [p_stemmer.stem(i) for i in stopped_tokens]\n",
    "        # add tokens to list\n",
    "        texts.append(stemmed_tokens)\n",
    "    return texts"
   ]
  },
  {
   "cell_type": "code",
   "execution_count": 5,
   "metadata": {},
   "outputs": [],
   "source": [
    "clean_text=preprocess_data(doc_list)"
   ]
  },
  {
   "cell_type": "code",
   "execution_count": 23,
   "metadata": {},
   "outputs": [],
   "source": [
    "# copied this from some tutorial, and modified it. Computes bigrams\n",
    "def generate_co_occurrence_matrix(corpus):\n",
    "    vocab = set(corpus)\n",
    "    vocab = list(vocab)\n",
    "    vocab_index = {word: i for i, word in enumerate(vocab)}\n",
    " \n",
    "    # Create 15-grams from all words in corpus\n",
    "    n_grams = list(nltk.everygrams(corpus,min_len=2,max_len=2)) \n",
    "    \n",
    "    m = np.zeros([len(vocab),len(n_grams)]);\n",
    "    for i,word1 in enumerate(vocab):\n",
    "        for j,this_n_gram in enumerate(n_grams):\n",
    "            if word1 in this_n_gram:\n",
    "                 m[i,j]=1\n",
    "\n",
    "    co_occurrence_matrix = np.matrix(m)*np.matrix(np.transpose(m))\n",
    "\n",
    "    wordFreq = np.sum(m,axis=1)\n",
    "    frqtSrt = np.argsort(wordFreq)\n",
    "    frqtSrt = frqtSrt[::-1]\n",
    "    most_common = frqtSrt[0:985]\n",
    "    \n",
    "    co_occurrence_matrix = co_occurrence_matrix.take(most_common,axis=1)\n",
    "    \n",
    "    # normalize incidence\n",
    "    #incidence = np.sum(m,axis=1)\n",
    "    #a,b = np.shape(m)\n",
    "    #from numpy import matlib as ml\n",
    "    #incidence = ml.repmat(incidence,n=1,m=a)\n",
    "    #co_occurrence_matrix = co_occurrence_matrix/(incidence*np.transpose(incidence))\n",
    "    co_occurrence_matrix = np.log(1 + co_occurrence_matrix)\n",
    "    from scipy import stats as sts\n",
    "    co_occurrence_matrix = sts.zscore(sts.zscore(co_occurrence_matrix,axis=0),axis=1)\n",
    "\n",
    "    vocab_tuple = tuple(vocab_index)\n",
    "    basis_index = [];\n",
    "    for i in range(0,len(most_common)):\n",
    "        basis_index.append(vocab_tuple[most_common[i]])\n",
    "    \n",
    "    return co_occurrence_matrix, vocab_index, basis_index"
   ]
  },
  {
   "cell_type": "code",
   "execution_count": 28,
   "metadata": {},
   "outputs": [
    {
     "ename": "NameError",
     "evalue": "name 'clean_data' is not defined",
     "output_type": "error",
     "traceback": [
      "\u001b[0;31m---------------------------------------------------------------------------\u001b[0m",
      "\u001b[0;31mNameError\u001b[0m                                 Traceback (most recent call last)",
      "\u001b[0;32m<ipython-input-28-d3224b8722d3>\u001b[0m in \u001b[0;36m<module>\u001b[0;34m\u001b[0m\n\u001b[0;32m----> 1\u001b[0;31m \u001b[0mmatrix\u001b[0m\u001b[0;34m,\u001b[0m \u001b[0mvocab_index\u001b[0m\u001b[0;34m,\u001b[0m \u001b[0mbasis_index\u001b[0m \u001b[0;34m=\u001b[0m \u001b[0mgenerate_co_occurrence_matrix\u001b[0m\u001b[0;34m(\u001b[0m\u001b[0mclean_data\u001b[0m\u001b[0;34m[\u001b[0m\u001b[0;36m1\u001b[0m\u001b[0;34m:\u001b[0m\u001b[0;36m20\u001b[0m\u001b[0;34m]\u001b[0m\u001b[0;34m)\u001b[0m\u001b[0;34m\u001b[0m\u001b[0;34m\u001b[0m\u001b[0m\n\u001b[0m",
      "\u001b[0;31mNameError\u001b[0m: name 'clean_data' is not defined"
     ]
    }
   ],
   "source": [
    "matrix, vocab_index, basis_index = generate_co_occurrence_matrix(clean_data[1:20])"
   ]
  },
  {
   "cell_type": "code",
   "execution_count": null,
   "metadata": {},
   "outputs": [],
   "source": []
  }
 ],
 "metadata": {
  "kernelspec": {
   "display_name": "Python 3",
   "language": "python",
   "name": "python3"
  },
  "language_info": {
   "codemirror_mode": {
    "name": "ipython",
    "version": 3
   },
   "file_extension": ".py",
   "mimetype": "text/x-python",
   "name": "python",
   "nbconvert_exporter": "python",
   "pygments_lexer": "ipython3",
   "version": "3.6.12"
  }
 },
 "nbformat": 4,
 "nbformat_minor": 4
}
