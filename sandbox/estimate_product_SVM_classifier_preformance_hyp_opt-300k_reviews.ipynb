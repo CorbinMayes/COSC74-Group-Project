{
 "cells": [
  {
   "cell_type": "markdown",
   "metadata": {},
   "source": [
    "This script estimates the performance of linear SVM classification in a document-topic model's feature space"
   ]
  },
  {
   "cell_type": "code",
   "execution_count": 1,
   "metadata": {},
   "outputs": [],
   "source": [
    "%load_ext autoreload\n",
    "%autoreload 2\n",
    "import time\n",
    "start_time = time.time()\n",
    "\n",
    "import json\n",
    "\n",
    "import nltk\n",
    "from nltk.tokenize import RegexpTokenizer\n",
    "from nltk.corpus import stopwords\n",
    "from nltk.stem.porter import PorterStemmer\n",
    "\n",
    "import numpy as np\n",
    "\n",
    "import sys\n",
    "sys.path.append(\"../libraries/\")\n",
    "from selector import split_data\n",
    "from semanticClassifiers import docTopTransformer2, docTopTransformer, doc2Bow"
   ]
  },
  {
   "cell_type": "code",
   "execution_count": 2,
   "metadata": {},
   "outputs": [],
   "source": [
    "# takes list of text fields (e.g. summary or reviewText fields) and\n",
    "# tokenizes, removes stop words and stems. Returns result as array of \n",
    "# lists, one list per review\n",
    "def preprocess_data(doc_set):    \n",
    "    # initialize regex tokenizer\n",
    "    tokenizer = RegexpTokenizer(r'\\w+')\n",
    "    # create English stop words list\n",
    "    en_stop = set(stopwords.words('english'))\n",
    "    # Create p_stemmer of class PorterStemmer\n",
    "    p_stemmer = PorterStemmer()\n",
    "    # list for tokenized documents in loop\n",
    "    texts = []\n",
    "    # loop through document list\n",
    "    for i in doc_set:\n",
    "        if not i:\n",
    "            i = ' '\n",
    "        # clean and tokenize document string\n",
    "        raw = i.lower()\n",
    "        tokens = tokenizer.tokenize(raw)\n",
    "        tokens.append('null__') # add a bias term, will work as a kind of prior, important for empty reviews\n",
    "        # remove stop words from tokens\n",
    "        stopped_tokens = [i for i in tokens if not i in en_stop]\n",
    "        # stem tokens\n",
    "        stemmed_tokens = [p_stemmer.stem(i) for i in stopped_tokens]\n",
    "        # add tokens to list\n",
    "        texts.append(stemmed_tokens)\n",
    "    return texts\n",
    "\n",
    "# takes an array of lists as input, product labels, uniq_labels, and ratings,\n",
    "# and merges lists with matching labels among labels uniq_labels, averages\n",
    "# reviews belonging to the same, returns merged lists, and averaged ratings\n",
    "# uniq_labels should typically be np.unique(product labels), however \n",
    "# the option of specifying a subset is useful for parallelization to allow\n",
    "# different subsets to be processed by different engines\n",
    "def combine_reviews(review_text, asins, uniq_asins, ratings):\n",
    "    # cast to array for easier indexing\n",
    "    review_text = np.array(review_text, dtype=object)\n",
    "    ratings = np.array(ratings)\n",
    "    asins = np.array(asins)\n",
    "    \n",
    "    #combine all the summaries into a single text and avg the review ratings for each product\n",
    "    product_text = []\n",
    "    avg_ratings = []\n",
    "    for this_asin in uniq_asins:\n",
    "        asin_idx = np.where(this_asin == asins)\n",
    "        this_product_text = np.concatenate([text for text in review_text[asin_idx]])\n",
    "        product_text.append(this_product_text)\n",
    "        avg_ratings.append(np.mean(ratings[asin_idx]))\n",
    "    \n",
    "    return (product_text, avg_ratings)\n",
    "\n",
    "def list_concat(nparray_of_lists):\n",
    "    nparray_of_lists[-2] = nparray_of_lists[-2] + nparray_of_lists[-1]\n",
    "    nparray_of_lists.pop()\n",
    "    \n",
    "    if len(nparray_of_lists) > 1:\n",
    "        nparray_of_lists = list_concat(nparray_of_lists)\n",
    "    \n",
    "    return nparray_of_lists"
   ]
  },
  {
   "cell_type": "code",
   "execution_count": 3,
   "metadata": {},
   "outputs": [],
   "source": [
    "# Read in testing data for 80/20 split\n",
    "# we won't use val_dat at all\n",
    "json_dat, val_dat = split_data('../data/Sports_and_Outdoors_Reviews_training.json', 80)\n",
    "json_dat = json_dat[:300000]"
   ]
  },
  {
   "cell_type": "code",
   "execution_count": 4,
   "metadata": {},
   "outputs": [],
   "source": [
    "# create a list, doc_list, with one review per elem\n",
    "summary = []\n",
    "rating = []\n",
    "prod_id = []\n",
    "for i in range(0,len(json_dat)):\n",
    "    rating.append(json_dat[i].get('overall'))\n",
    "    summary.append(json_dat[i].get('summary'))\n",
    "    prod_id.append(json_dat[i].get('asin'))"
   ]
  },
  {
   "cell_type": "code",
   "execution_count": 5,
   "metadata": {},
   "outputs": [
    {
     "name": "stdout",
     "output_type": "stream",
     "text": [
      "12.074710845947266\n"
     ]
    }
   ],
   "source": [
    "# takes ~96 CPU minutes\n",
    "\n",
    "# this cell runs things in parallel. make sure to start an \n",
    "# ipython cluster from the notebook dashboard's IPython Cluster\n",
    "# tab before running\n",
    "import ipyparallel as ipp\n",
    "\n",
    "rc = ipp.Client()\n",
    "dview = rc[:]\n",
    "dview.execute('from nltk.tokenize import RegexpTokenizer;' +\n",
    "              'from nltk.corpus import stopwords; ' + \n",
    "              'from nltk.stem.porter import PorterStemmer;' +\n",
    "              'import numpy as np;')\n",
    "\n",
    "t0 = time.time()\n",
    "\n",
    "\n",
    "# clean text\n",
    "dview.push(dict(preprocess_data=preprocess_data))\n",
    "dview.scatter('summary', summary) # partitions data\n",
    "\n",
    "%px cleaned_reviews = preprocess_data(summary)\n",
    "cleaned_reviews = dview.gather('cleaned_reviews').get()\n",
    "\n",
    "# combine text\n",
    "dview.push(dict(cleaned_reviews=cleaned_reviews, combine_reviews=combine_reviews,\n",
    "               rating=rating, prod_id=prod_id))\n",
    "uniq_prod_id = np.unique(prod_id)\n",
    "dview.scatter('uniq_prod_id', uniq_prod_id) # partition target labels\n",
    "\n",
    "%px total_text, avg_ratings = combine_reviews(cleaned_reviews, prod_id, uniq_prod_id, rating)\n",
    "total_text = dview.gather('total_text').get()\n",
    "avg_ratings = dview.gather('avg_ratings').get()\n",
    "\n",
    "\n",
    "\n",
    "t1 = time.time()\n",
    "\n",
    "print(t1-t0)"
   ]
  },
  {
   "cell_type": "code",
   "execution_count": 6,
   "metadata": {},
   "outputs": [
    {
     "data": {
      "text/plain": [
       "9695"
      ]
     },
     "execution_count": 6,
     "metadata": {},
     "output_type": "execute_result"
    }
   ],
   "source": [
    "import gc\n",
    "\n",
    "del summary\n",
    "del json_dat\n",
    "del val_dat\n",
    "\n",
    "gc.collect()"
   ]
  },
  {
   "cell_type": "code",
   "execution_count": 7,
   "metadata": {},
   "outputs": [],
   "source": [
    "# vectorize training data\n",
    "train_lbls = np.array(avg_ratings) >= 4.5\n",
    "train_text = total_text\n",
    "lbls = prod_id"
   ]
  },
  {
   "cell_type": "code",
   "execution_count": 8,
   "metadata": {},
   "outputs": [],
   "source": [
    "# run this cell tweaking the search space a big until you're satisfied you're\n",
    "# at a local minimum, and not up against the edge of the search space\n",
    "from sklearn.preprocessing import Normalizer\n",
    "from sklearn.model_selection import cross_val_predict\n",
    "from sklearn.svm import SVC\n",
    "from sklearn.model_selection import GridSearchCV\n",
    "from sklearn.ensemble import BaggingClassifier\n",
    "from gensim.corpora import Dictionary\n",
    "from sklearn.pipeline import Pipeline\n",
    "\n",
    "tuned_parameters = [{'clf__kernel': ['rbf'], \n",
    "                     'clf__gamma': [1e-1, 1e-2, 1e-3],\n",
    "                     'clf__C': [100, 1000, 10000]},\n",
    "                     {'clf__kernel': ['linear'], \n",
    "                      'clf__C': [100, 1000, 10000]},\n",
    "                     {'clf__kernel': ['poly'], \n",
    "                      'clf__C': [100, 1000, 10000],\n",
    "                      'clf__degree': [2]}]\n",
    "\n",
    "# manually update the search space to be centered on the local\n",
    "# minimum found above, under the assumption that loss function\n",
    "# is smooth over hyperparemters (not assured, or even likely, \n",
    "# but best we can do).\n",
    "# this time run it on twice as much data, and do that twice\n",
    "# averaging over the results using a bagging classifier\n",
    "# compute CV metrics, and get a final model\n",
    "\n",
    "my_dict = Dictionary(train_text)\n",
    "\n",
    "prod2Bow = doc2Bow()\n",
    "bow2Top = docTopTransformer(this_dict=my_dict)\n",
    "\n",
    "baseClf = SVC()\n",
    "estimators = [('bow2Top', bow2Top), ('norm', Normalizer()), ('clf', baseClf)]\n",
    "semClf = Pipeline(estimators)"
   ]
  },
  {
   "cell_type": "code",
   "execution_count": 15,
   "metadata": {},
   "outputs": [
    {
     "name": "stdout",
     "output_type": "stream",
     "text": [
      "7352.557163476944\n"
     ]
    }
   ],
   "source": [
    "clf = GridSearchCV(semClf, tuned_parameters, cv=5, n_jobs=1, scoring='f1_macro')\n",
    "\n",
    "# create bag of words mapping outside gridsearchcv loop for speedup\n",
    "finalClf = Pipeline([('prod2Bow', prod2Bow), ('bagClf', clf)])\n",
    "\n",
    "# cross validate the procedure\n",
    "t0 = time.time()\n",
    "sum_predict = cross_val_predict(finalClf, train_text, train_lbls, cv=10, n_jobs=10)\n",
    "t1 = time.time()\n",
    "print(t1-t0)\n"
   ]
  },
  {
   "cell_type": "code",
   "execution_count": 16,
   "metadata": {},
   "outputs": [
    {
     "name": "stdout",
     "output_type": "stream",
     "text": [
      "Summary Text Prediction\n",
      "              precision    recall  f1-score   support\n",
      "\n",
      "       False       0.77      0.75      0.76      5903\n",
      "        True       0.73      0.75      0.74      5355\n",
      "\n",
      "    accuracy                           0.75     11258\n",
      "   macro avg       0.75      0.75      0.75     11258\n",
      "weighted avg       0.75      0.75      0.75     11258\n",
      "\n",
      "Null Prediction\n",
      "              precision    recall  f1-score   support\n",
      "\n",
      "       False       0.52      0.51      0.52      5903\n",
      "        True       0.47      0.49      0.48      5355\n",
      "\n",
      "    accuracy                           0.50     11258\n",
      "   macro avg       0.50      0.50      0.50     11258\n",
      "weighted avg       0.50      0.50      0.50     11258\n",
      "\n"
     ]
    }
   ],
   "source": [
    "from sklearn.metrics import classification_report\n",
    "\n",
    "report = classification_report(train_lbls, sum_predict)\n",
    "print('Summary Text Prediction')\n",
    "print(report)\n",
    "\n",
    "report = classification_report(train_lbls, np.random.permutation(sum_predict))\n",
    "print('Null Prediction')\n",
    "print(report)"
   ]
  },
  {
   "cell_type": "code",
   "execution_count": 9,
   "metadata": {},
   "outputs": [
    {
     "name": "stdout",
     "output_type": "stream",
     "text": [
      "1073.51616024971\n"
     ]
    }
   ],
   "source": [
    "# obtain a final model fit\n",
    "\n",
    "clf = GridSearchCV(semClf, tuned_parameters, cv=5, n_jobs=16, scoring='f1_macro')\n",
    "\n",
    "# create bag of words mapping outside gridsearchcv loop for speedup\n",
    "finalClf = Pipeline([('prod2Bow', prod2Bow), ('bagClf', clf)])\n",
    "\n",
    "t0 = time.time()\n",
    "finalClf = finalClf.fit(train_text,train_lbls)\n",
    "t1 = time.time()\n",
    "print(t1-t0)"
   ]
  },
  {
   "cell_type": "code",
   "execution_count": 13,
   "metadata": {},
   "outputs": [],
   "source": [
    "# save fitted classifier\n",
    "#\n",
    "# classifier will project tokenized test data to the pretrained \n",
    "# document-topic embedding, apply two SVM classifiers, which may\n",
    "# be linear, polynomial or RBF kernel classifiers, with various\n",
    "# hyperparameters, average the results, and give you the \n",
    "# resulting prediction. The selected kernels and hyperparameters\n",
    "# are chosen to optimize f1 score\n",
    "import pickle\n",
    "with open('hypOptSVM_300k.clf',mode='wb') as f:\n",
    "    pickle.dump(finalClf,f)"
   ]
  },
  {
   "cell_type": "code",
   "execution_count": null,
   "metadata": {},
   "outputs": [],
   "source": [
    "defaultClf = Pipeline([('prod2Bow', prod2Bow), ('bagClf', semClf)])\n",
    "predict_default = cross_val_predict(defaultClf, train_text, train_lbls, cv=10, n_jobs=10)\n",
    "\n",
    "report = classification_report(train_lbls, predict_default)\n",
    "print('Prediction using hyperparameter defaults')\n",
    "print(report)"
   ]
  },
  {
   "cell_type": "code",
   "execution_count": null,
   "metadata": {},
   "outputs": [],
   "source": [
    "# rerun the classifier to get hyperparameter samplings\n",
    "my_dict = Dictionary(train_text)\n",
    "\n",
    "prod2Bow = doc2Bow()\n",
    "bow2Top = docTopTransformer(this_dict=my_dict)\n",
    "\n",
    "baseClf = SVC()\n",
    "estimators = [('bow2Top', bow2Top), ('norm', Normalizer()), ('clf', baseClf)]\n",
    "semClf = Pipeline(estimators)\n",
    "\n",
    "clf = GridSearchCV(semClf, tuned_parameters, cv=5, n_jobs=1, scoring='f1_macro')\n",
    "\n",
    "# fit two models on two independent datasets, averaging results\n",
    "n_estimators=10\n",
    "bagClf = BaggingClassifier(base_estimator=clf, \n",
    "                        bootstrap=False, max_samples = 0.8, n_estimators=n_estimators,\n",
    "                        n_jobs=10)\n",
    "\n",
    "finalClf = Pipeline([('prod2Bow', prod2Bow), ('bagClf', bagClf)])\n",
    "\n",
    "t0 = time.time()\n",
    "finalClf.fit(train_text, train_lbls)\n",
    "t1 = time.time()\n",
    "\n",
    "# print out the hyperparameter fits for each bag\n",
    "for this_clf in finalClf[1]:\n",
    "    print(this_clf.best_estimator_)\n",
    "    \n",
    "print(t1-t0)"
   ]
  }
 ],
 "metadata": {
  "kernelspec": {
   "display_name": "Python 3",
   "language": "python",
   "name": "python3"
  },
  "language_info": {
   "codemirror_mode": {
    "name": "ipython",
    "version": 3
   },
   "file_extension": ".py",
   "mimetype": "text/x-python",
   "name": "python",
   "nbconvert_exporter": "python",
   "pygments_lexer": "ipython3",
   "version": "3.8.6"
  }
 },
 "nbformat": 4,
 "nbformat_minor": 4
}
