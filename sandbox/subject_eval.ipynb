{
 "cells": [
  {
   "cell_type": "code",
   "execution_count": null,
   "metadata": {},
   "outputs": [],
   "source": [
    "import time\n",
    "start_time = time.time()\n",
    "\n",
    "import json\n",
    "\n",
    "import numpy as np\n",
    "\n",
    "import sys\n",
    "sys.path.append(\"../libraries/\")\n",
    "from selector import split_data\n",
    "from semanticClassifiers import docTopTransformer"
   ]
  },
  {
   "cell_type": "code",
   "execution_count": null,
   "metadata": {},
   "outputs": [],
   "source": [
    "# Read in testing data for 80/20 split\n",
    "# we won't use val_dat at all\n",
    "json_dat, val_dat = split_data('../data/Sports_and_Outdoors_Reviews_training.json', 80)\n",
    "del val_dat"
   ]
  },
  {
   "cell_type": "code",
   "execution_count": null,
   "metadata": {},
   "outputs": [],
   "source": [
    "# create lists with one review per elem\n",
    "summary = []\n",
    "review = []\n",
    "rating = []\n",
    "prod_id = []\n",
    "for i in range(0,len(json_dat)):\n",
    "    if json_dat[i].get('reviewText') and json_dat[i].get('summary'): #not all reviews have text\n",
    "        rating.append(json_dat[i].get('overall'))\n",
    "        summary.append(json_dat[i].get('summary'))\n",
    "        review.append(json_dat[i].get('reviewText'))\n",
    "        prod_id.append(json_dat[i].get('asin'))\n",
    "        \n",
    "del json_dat"
   ]
  },
  {
   "cell_type": "code",
   "execution_count": null,
   "metadata": {},
   "outputs": [],
   "source": [
    "n_reviews = 100 # number of reviews to evaluate\n",
    "randsamp = np.random.permutation(len(review))\n",
    "randsamp = randsamp[0:n_reviews]"
   ]
  },
  {
   "cell_type": "code",
   "execution_count": null,
   "metadata": {},
   "outputs": [],
   "source": [
    "summary = [summary[x] for x in randsamp]\n",
    "review = [review[x] for x in randsamp]\n",
    "rating = [rating[x] for x in randsamp]"
   ]
  },
  {
   "cell_type": "code",
   "execution_count": null,
   "metadata": {},
   "outputs": [],
   "source": [
    "# provide 0 or 1 input\n",
    "summary_subj_rating = []\n",
    "for this_sum in summary:\n",
    "    summary_subj_rating.append(input(this_sum + '\\n'))"
   ]
  },
  {
   "cell_type": "code",
   "execution_count": null,
   "metadata": {},
   "outputs": [],
   "source": [
    "# skipp this if short on time\n",
    "# provide 0 or 1 input\n",
    "review_subj_rating = []\n",
    "for this_rev in review:\n",
    "    review_subj_rating.append(input(this_rev + '\\n'))"
   ]
  },
  {
   "cell_type": "code",
   "execution_count": null,
   "metadata": {},
   "outputs": [],
   "source": [
    "summary_mistakes = 0\n",
    "review_mistakes = 0\n",
    "if summary_subj_rating:\n",
    "    summary_mistakes = np.sum([(this_rat >= 4.5) != bool(int(summary_subj_rating[i])) \n",
    "                               for i,this_rat in enumerate(rating)])\n",
    "    print('Summary text accuracy = ' + str(1.0 - summary_mistakes/len(summary_subj_rating)))\n",
    "    \n",
    "if review_subj_rating:\n",
    "    review_mistakes = np.sum([(this_rat >= 4.5) != bool(int(review_subj_rating[i])) \n",
    "                              for i,this_rat in enumerate(rating)])\n",
    "    print('Review text accuracy = ' + str(1.0 - review_mistakes/len(review_subj_rating)))"
   ]
  }
 ],
 "metadata": {
  "kernelspec": {
   "display_name": "Python 3",
   "language": "python",
   "name": "python3"
  },
  "language_info": {
   "codemirror_mode": {
    "name": "ipython",
    "version": 3
   },
   "file_extension": ".py",
   "mimetype": "text/x-python",
   "name": "python",
   "nbconvert_exporter": "python",
   "pygments_lexer": "ipython3",
   "version": "3.6.12"
  }
 },
 "nbformat": 4,
 "nbformat_minor": 4
}
