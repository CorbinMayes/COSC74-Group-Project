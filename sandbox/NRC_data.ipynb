{
 "cells": [
  {
   "cell_type": "code",
   "execution_count": 30,
   "metadata": {},
   "outputs": [],
   "source": [
    "from nltk.tokenize import word_tokenize\n",
    "from nltk.stem.porter import PorterStemmer\n",
    "import matplotlib.pyplot as plt\n",
    "import gensim\n",
    "from gensim.utils import simple_preprocess\n",
    "import numpy as np\n",
    "import pandas as pd\n",
    "import string\n",
    "import json\n",
    "import os\n",
    "import random\n",
    "import sys\n",
    "sys.path.append(\"../libraries/\")\n",
    "from selector import split_data"
   ]
  },
  {
   "cell_type": "code",
   "execution_count": 50,
   "metadata": {},
   "outputs": [],
   "source": [
    "def readNRC(filename):\n",
    "    \"\"\" Reads the NRC lexicon into a dictionary.\n",
    "    \"\"\"\n",
    "    wordToEmotions = dict()\n",
    "    p_stemmer = PorterStemmer()\n",
    "    with open(filename, 'r') as fp:\n",
    "        # Loop through lines\n",
    "        for line in fp:\n",
    "            line = line.strip('\\n')\n",
    "            # If no emotional value, skip\n",
    "            if line[-1:] == '0':\n",
    "                continue\n",
    "            # Else analyze\n",
    "            else:\n",
    "                words = line.split('\\t')\n",
    "                if len(words) != 3:\n",
    "                    continue\n",
    "                # Stem word\n",
    "                word = p_stemmer.stem(words[0])\n",
    "#                 word = words[0]\n",
    "                emotion = words[1]\n",
    "                # Store the emotions associated with the word\n",
    "                if word not in wordToEmotions.keys():\n",
    "                    wordToEmotions[word] = [emotion]\n",
    "                else:\n",
    "                    wordToEmotions[word].append(emotion)\n",
    "    return wordToEmotions\n",
    "\n",
    "lexicon = readNRC(\"../data/NRC-Emotion-Lexicon-Wordlevel-v0.92.txt\")\n",
    "emotionList = ['anger', 'anticipation', 'disgust', 'fear', 'joy', 'negative', 'positive', 'sadness', 'surprise', 'trust']"
   ]
  },
  {
   "cell_type": "code",
   "execution_count": 3,
   "metadata": {},
   "outputs": [],
   "source": [
    "json_dat, val_dat = split_data('../data/Sports_and_Outdoors_Reviews_training.json', 80)"
   ]
  },
  {
   "cell_type": "code",
   "execution_count": 28,
   "metadata": {},
   "outputs": [],
   "source": [
    "sampleData = json_dat[:40000]"
   ]
  },
  {
   "cell_type": "code",
   "execution_count": 74,
   "metadata": {},
   "outputs": [
    {
     "name": "stdout",
     "output_type": "stream",
     "text": [
      "[0.0, 0.14285714285714285, 0.0, 0.0, 0.2857142857142857, 0.0, 0.2857142857142857, 0.0, 0.14285714285714285, 0.14285714285714285]\n"
     ]
    }
   ],
   "source": [
    "def hasEmotion(word, lexicon, emotion):\n",
    "    if word not in lexicon.keys() or emotion not in lexicon[word]:\n",
    "        return 0\n",
    "    else:\n",
    "        return 1\n",
    "\n",
    "# Returns a list with percentage of words which conveyed [anger, anticipation, ... , trust]\n",
    "def getEmotions(words, lexicon, emotionList):\n",
    "    emotionCount = [0] * len(emotionList)\n",
    "    emotionalWords = 0\n",
    "    p_stemmer = PorterStemmer()\n",
    "    for word in words:\n",
    "        # Stem each word\n",
    "        word = p_stemmer.stem(word)\n",
    "        # List of emotions\n",
    "        for i in range(len(emotionList)):\n",
    "            emotionCount[i] += hasEmotion(word, lexicon, emotionList[i])\n",
    "    \n",
    "    # Avg over all words\n",
    "    if len(words) > 0:\n",
    "        emotionCount = [x/len(words) for x in emotionCount]\n",
    "    \n",
    "    return emotionCount\n",
    "\n",
    "string1 = sampleData[7].get('reviewText')\n",
    "print(getEmotions(gensim.utils.simple_preprocess(string1, deacc = True), lexicon, emotionList))"
   ]
  },
  {
   "cell_type": "code",
   "execution_count": 79,
   "metadata": {},
   "outputs": [
    {
     "name": "stdout",
     "output_type": "stream",
     "text": [
      "[99%]\r"
     ]
    }
   ],
   "source": [
    "scores = []\n",
    "emotions = []\n",
    "for i in range(len(sampleData)):\n",
    "    currJson = sample_data[i]\n",
    "    if(not currJson.get('reviewText')):\n",
    "        continue\n",
    "    scores.append(currJson.get('overall'))\n",
    "    reviewWords = gensim.utils.simple_preprocess(currJson.get('reviewText'), deacc=True)\n",
    "    currEmotions = getEmotions(reviewWords, lexicon, emotionList)\n",
    "    emotions.append(currEmotions)\n",
    "    print('[%d%%]\\r' % (100*i/len(sampleData)), end='')\n"
   ]
  }
 ],
 "metadata": {
  "kernelspec": {
   "display_name": "Python 3",
   "language": "python",
   "name": "python3"
  },
  "language_info": {
   "codemirror_mode": {
    "name": "ipython",
    "version": 3
   },
   "file_extension": ".py",
   "mimetype": "text/x-python",
   "name": "python",
   "nbconvert_exporter": "python",
   "pygments_lexer": "ipython3",
   "version": "3.6.5"
  }
 },
 "nbformat": 4,
 "nbformat_minor": 4
}
