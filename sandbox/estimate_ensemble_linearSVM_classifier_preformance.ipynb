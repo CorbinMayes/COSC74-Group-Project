{
 "cells": [
  {
   "cell_type": "markdown",
   "metadata": {},
   "source": [
    "This script estimates the performance of naive bayes classification in a document-topic model's feature space"
   ]
  },
  {
   "cell_type": "code",
   "execution_count": 2,
   "metadata": {},
   "outputs": [],
   "source": [
    "%load_ext autoreload\n",
    "%autoreload 2\n",
    "import time\n",
    "start_time = time.time()\n",
    "\n",
    "import json\n",
    "\n",
    "import nltk\n",
    "from nltk.tokenize import RegexpTokenizer\n",
    "from nltk.corpus import stopwords\n",
    "from nltk.stem.porter import PorterStemmer\n",
    "\n",
    "import numpy as np\n",
    "\n",
    "import sys\n",
    "sys.path.append(\"../libraries/\")\n",
    "from selector import split_data\n",
    "from semanticClassifiers import docTopTransformer2"
   ]
  },
  {
   "cell_type": "code",
   "execution_count": 3,
   "metadata": {},
   "outputs": [],
   "source": [
    "# Read in testing data for 80/20 split\n",
    "# we won't use val_dat at all\n",
    "json_dat, val_dat = split_data('../data/Sports_and_Outdoors_Reviews_training.json', 80)"
   ]
  },
  {
   "cell_type": "code",
   "execution_count": 4,
   "metadata": {},
   "outputs": [],
   "source": [
    "# create a list, doc_list, with one review per elem\n",
    "review = []\n",
    "summary = []\n",
    "rating = []\n",
    "prod_id = []\n",
    "for i in range(0,len(json_dat)):\n",
    "    if json_dat[i].get('reviewText') and json_dat[i].get('summary'): #not all reviews have text\n",
    "        rating.append(json_dat[i].get('overall'))\n",
    "        summary.append(json_dat[i].get('summary'))\n",
    "        review.append(json_dat[i].get('reviewText'))\n",
    "        prod_id.append(json_dat[i].get('asin'))"
   ]
  },
  {
   "cell_type": "code",
   "execution_count": 9,
   "metadata": {},
   "outputs": [],
   "source": [
    "# initialize regex tokenizer\n",
    "tokenizer = RegexpTokenizer(r'\\w+')\n",
    "# create English stop words list\n",
    "en_stop = set(stopwords.words('english'))\n",
    "# Create p_stemmer of class PorterStemmer\n",
    "p_stemmer = PorterStemmer()\n",
    "    \n",
    "def preprocess_data(doc_set):\n",
    "    # list for tokenized documents in loop\n",
    "    texts = []\n",
    "    # loop through document list\n",
    "    for doc in doc_set:\n",
    "        # clean and tokenize document string\n",
    "        raw = doc.lower()\n",
    "        tokens = tokenizer.tokenize(raw)\n",
    "        # remove stop words from tokens\n",
    "        stopped_tokens = [i for i in tokens if not i in en_stop]\n",
    "        # stem tokens\n",
    "        texts.append([p_stemmer.stem(i) for i in stopped_tokens])\n",
    "    return texts"
   ]
  },
  {
   "cell_type": "code",
   "execution_count": 10,
   "metadata": {},
   "outputs": [
    {
     "name": "stdout",
     "output_type": "stream",
     "text": [
      "206.26088070869446\n"
     ]
    }
   ],
   "source": [
    "# this cell runs things in parallel. make sure to start an \n",
    "# ipython cluster from the notebook dashboard's IPython Cluster\n",
    "# tab before running\n",
    "import ipyparallel as ipp\n",
    "\n",
    "rc = ipp.Client()\n",
    "dview = rc[:]\n",
    "dview.push(dict(tokenizer=tokenizer, p_stemmer=p_stemmer,\n",
    "                en_stop=set(stopwords.words('english'))))\n",
    "\n",
    "t0 = time.time()\n",
    "summary_text = dview.apply_sync(preprocess_data, summary)\n",
    "t1 = time.time()\n",
    "\n",
    "\n",
    "# vectorize training data\n",
    "awesome = np.array(rating) >= 4.5\n",
    "summary_text = summary_text[0]\n",
    "\n",
    "print(t1-t0)"
   ]
  },
  {
   "cell_type": "code",
   "execution_count": 14,
   "metadata": {},
   "outputs": [
    {
     "data": {
      "text/plain": [
       "27368980"
      ]
     },
     "execution_count": 14,
     "metadata": {},
     "output_type": "execute_result"
    }
   ],
   "source": [
    "import gc\n",
    "\n",
    "del summary\n",
    "del review\n",
    "del json_dat\n",
    "del val_dat\n",
    "\n",
    "gc.collect()"
   ]
  },
  {
   "cell_type": "code",
   "execution_count": 211,
   "metadata": {},
   "outputs": [],
   "source": [
    "from sklearn.base import TransformerMixin, BaseEstimator\n",
    "\n",
    "from gensim.models import LsiModel as lsi\n",
    "from gensim.corpora import Dictionary\n",
    "from gensim import matutils\n",
    "\n",
    "class center(TransformerMixin, BaseEstimator):\n",
    "        \n",
    "    def _breakTuple(self, X):\n",
    "        X_, X__ = [[x1 for x1,x2 in X], [x2 for x1,x2 in X]]\n",
    "        return np.array(X_, dtype=object), np.array(X__)\n",
    "        \n",
    "    # X must be a tuple with the second element being a group identifier\n",
    "    def fit(self, X, y=None):      \n",
    "        X_vec, X_lbl = self._breakTuple(X)\n",
    "        \n",
    "        lbl_mean = []\n",
    "        uPid = np.unique(X_lbl)\n",
    "        for lbl in uPid:\n",
    "            mean_X = np.mean(X_vec[np.where(lbl == X_lbl)], axis=0)\n",
    "            lbl_mean.append(mean_X)\n",
    "            \n",
    "        self.lbl_mean = dict(zip(uPid, lbl_mean))\n",
    "        self.grand_mean = np.mean(lbl_mean, axis=0)\n",
    "        \n",
    "        return self\n",
    "    \n",
    "    # note this transforms training data, but if we're looking at new data\n",
    "    # for unseen lbls, then this doesn't do anything to it.\n",
    "    def transform(self, X, y=None):\n",
    "        X_vec, X_lbl = self._breakTuple(X)\n",
    "        \n",
    "        newX = []\n",
    "        for i,X_ in enumerate(X_vec):\n",
    "            if X_lbl[i] in self.lbl_mean.keys():\n",
    "                newX.append(X_ - self.lbl_mean[X_lbl[i]] + self.grand_mean)\n",
    "            else:\n",
    "                newX.append(X_)\n",
    "                \n",
    "        return newX\n",
    "    \n",
    "\n",
    "# similar to docTopTransformer except it takes a corpus as input and trains dictionaries and computes BOWs internally\n",
    "class docTopTransformer3(TransformerMixin, BaseEstimator):\n",
    "    \n",
    "    def __init__(self, d=300, distributed=False):\n",
    "        self.this_dict = []\n",
    "        self.d = d\n",
    "        self.distributed = distributed\n",
    "        \n",
    "    def _breakTuple(self, X):\n",
    "        X_, X__ = [[x1 for x1,x2 in X], [x2 for x1,x2 in X]]\n",
    "        return np.array(X_, dtype=object), np.array(X__)\n",
    "    \n",
    "    def _getBOW(self,X):\n",
    "        # transform corpus (train) into a 2d array word counts (a 'bag of words')\n",
    "        bow = [self.this_dict.doc2bow(text) for text in X]\n",
    "        \n",
    "        return bow\n",
    "    \n",
    "    # takes corpus as input\n",
    "    def fit(self, X, y=None):\n",
    "        \n",
    "        X, delme = self._breakTuple(X)\n",
    "        \n",
    "        # train a document-topic model        \n",
    "        self.this_dict = Dictionary(X)\n",
    "\n",
    "        bow = self._getBOW(X)\n",
    "        \n",
    "        # construct a semantic model based on document-topic similarity (15-20 min for 1500k reviews?)\n",
    "        self.semSpace = lsi(bow, id2word=self.this_dict, num_topics=self.d, \n",
    "                            chunksize=100000, distributed=self.distributed)\n",
    "        \n",
    "        return self\n",
    "    \n",
    "    def transform(self, X, y=None):\n",
    "        X, lbl = self._breakTuple(X)\n",
    "        \n",
    "        bow = self._getBOW(X)\n",
    "        \n",
    "        # Apply the semantic model to the training set bag of words (fast)\n",
    "        feat = self.semSpace[bow]\n",
    "\n",
    "        # convert from TransformedCorpus datatype to numpy doc x topic array (medium speed, needs more benchmarking)\n",
    "        topics_csr = matutils.corpus2csc(feat)\n",
    "        X_ = topics_csr.T.toarray()\n",
    "        \n",
    "        X_ = list(zip(X_,lbl))\n",
    "        return X_"
   ]
  },
  {
   "cell_type": "code",
   "execution_count": 120,
   "metadata": {},
   "outputs": [],
   "source": [
    "from gensim.corpora import Dictionary\n",
    "import gensim.matutils as matutils\n",
    "from scipy.sparse.csc import csc_matrix\n",
    "\n",
    "train_text = summary_text[0:10000]\n",
    "train_lbls = awesome[0:10000]\n",
    "this_prod_id = prod_id[0:10000]"
   ]
  },
  {
   "cell_type": "code",
   "execution_count": 221,
   "metadata": {},
   "outputs": [
    {
     "name": "stdout",
     "output_type": "stream",
     "text": [
      "25.662643671035767\n"
     ]
    }
   ],
   "source": [
    "# estimate classifier accuracy\n",
    "from sklearn.model_selection import cross_val_predict, GroupKFold\n",
    "from sklearn.svm import LinearSVC, SVC\n",
    "from sklearn.naive_bayes import GaussianNB\n",
    "from sklearn.ensemble import BaggingClassifier\n",
    "from sklearn.pipeline import Pipeline\n",
    "\n",
    "# GroupKFold gives you a KFold partitioner that abides by\n",
    "# product labels so that products are only ever in a single\n",
    "# fold\n",
    "gkf = GroupKFold(n_splits=10)\n",
    "cv = gkf.split(train_text, train_lbls, groups=this_prod_id)\n",
    "\n",
    "time0 = time.time()\n",
    "\n",
    "# initialize a transformer mapping from bow to latent semantic features\n",
    "doc2Top3 = docTopTransformer3()\n",
    "# pick a classifier\n",
    "baseClf = LinearSVC()\n",
    "\n",
    "n_estimators=10\n",
    "clf = BaggingClassifier(base_estimator=baseClf, \n",
    "                        bootstrap=False, max_samples = 4/n_estimators, n_estimators=n_estimators,\n",
    "                        n_jobs=1)\n",
    "\n",
    "# create a pipeline that transforms data to semantic space, \n",
    "# and then classifies them by averaging over n_estimators of \n",
    "# type baseClf\n",
    "#\n",
    "# Note, you could bag over n semantic models too by creating\n",
    "# a pipeline using bow2Top and baseClf, and then passing that\n",
    "# in as th base_estimator argument of a BaggingClassifier\n",
    "# instance. If you think bagging classification of reviews will\n",
    "# lead to better classification performance for theoretical\n",
    "# reasons, this would be the way to go, however the purpose\n",
    "# of bagging here is for to avoid a bypass the slow SVM fitting\n",
    "# procedure\n",
    "estimators = [('projection', doc2Top3), ('center', center()), ('clf', clf)]\n",
    "semClf = Pipeline(estimators)\n",
    "\n",
    "# cross validate over the pipeline using group k-fold CV\n",
    "pred_lbls = cross_val_predict(semClf, list(zip(train_text, prod_id)), train_lbls, cv=cv, n_jobs=5)\n",
    "#pred_lbls = cross_val_predict(semClf, train_text, train_lbls, cv=cv, n_jobs=5)\n",
    "time1 = time.time()\n",
    "\n",
    "print(time1-time0)"
   ]
  },
  {
   "cell_type": "code",
   "execution_count": 222,
   "metadata": {},
   "outputs": [
    {
     "name": "stdout",
     "output_type": "stream",
     "text": [
      "True recall is sensitivity, false recall is specificity\n",
      "              precision    recall  f1-score   support\n",
      "\n",
      "       False       0.72      0.54      0.61      3406\n",
      "        True       0.79      0.89      0.84      6594\n",
      "\n",
      "    accuracy                           0.77     10000\n",
      "   macro avg       0.75      0.71      0.72     10000\n",
      "weighted avg       0.76      0.77      0.76     10000\n",
      "\n",
      "Accuracy: 0.770\n"
     ]
    }
   ],
   "source": [
    "# features learned on center product vectors\n",
    "from sklearn.metrics import classification_report\n",
    "\n",
    "report = classification_report(train_lbls, pred_lbls)\n",
    "print('True recall is sensitivity, false recall is specificity')\n",
    "print(report)\n",
    "\n",
    "# this is not exactly the same as the average of each CV folds accuracy, \n",
    "# but it's close and much faster to compute\n",
    "acc = 1-np.mean(pred_lbls != train_lbls)\n",
    "print(\"Accuracy: %0.3f\" % acc)"
   ]
  },
  {
   "cell_type": "code",
   "execution_count": 220,
   "metadata": {},
   "outputs": [
    {
     "name": "stdout",
     "output_type": "stream",
     "text": [
      "True recall is sensitivity, false recall is specificity\n",
      "              precision    recall  f1-score   support\n",
      "\n",
      "       False       0.73      0.53      0.62      3406\n",
      "        True       0.79      0.90      0.84      6594\n",
      "\n",
      "    accuracy                           0.77     10000\n",
      "   macro avg       0.76      0.72      0.73     10000\n",
      "weighted avg       0.77      0.77      0.76     10000\n",
      "\n",
      "Accuracy: 0.774\n"
     ]
    }
   ],
   "source": [
    "# features learned on raw data\n",
    "from sklearn.metrics import classification_report\n",
    "\n",
    "report = classification_report(train_lbls, pred_lbls)\n",
    "print('True recall is sensitivity, false recall is specificity')\n",
    "print(report)\n",
    "\n",
    "# this is not exactly the same as the average of each CV folds accuracy, \n",
    "# but it's close and much faster to compute\n",
    "acc = 1-np.mean(pred_lbls != train_lbls)\n",
    "print(\"Accuracy: %0.3f\" % acc)"
   ]
  },
  {
   "cell_type": "code",
   "execution_count": 29,
   "metadata": {},
   "outputs": [],
   "source": [
    "#clf.n_jobs = 5\n",
    "clf = BaggingClassifier(base_estimator=baseClf, \n",
    "                        bootstrap=False, max_samples = 1.0/n_estimators, n_estimators=n_estimators,\n",
    "                        n_jobs=5)\n",
    "\n",
    "estimators = [('projection', doc2Top), ('clf', clf)]\n",
    "semClf = Pipeline(estimators)\n",
    "\n",
    "semClf = semClf.fit(train_text,train_lbls)"
   ]
  },
  {
   "cell_type": "code",
   "execution_count": 31,
   "metadata": {},
   "outputs": [],
   "source": [
    "# save fitted classifier\n",
    "#\n",
    "# classifier will project tokenized test data to the pretrained \n",
    "# document-topic embedding, apply two SVM classifiers, which may\n",
    "# be linear, polynomial or RBF kernel classifiers, with various\n",
    "# hyperparameters, average the results, and give you the \n",
    "# resulting prediction. The selected kernels and hyperparameters\n",
    "# are chosen to optimize f1 score\n",
    "import pickle\n",
    "with open('linearSVM.clf',mode='wb') as f:\n",
    "    pickle.dump(semClf,f)"
   ]
  },
  {
   "cell_type": "code",
   "execution_count": 30,
   "metadata": {},
   "outputs": [
    {
     "data": {
      "text/plain": [
       "Pipeline(steps=[('projection', docTopTransformer2()),\n",
       "                ('clf',\n",
       "                 BaggingClassifier(base_estimator=LinearSVC(), bootstrap=False,\n",
       "                                   max_samples=0.1, n_jobs=5))])"
      ]
     },
     "execution_count": 30,
     "metadata": {},
     "output_type": "execute_result"
    }
   ],
   "source": []
  }
 ],
 "metadata": {
  "kernelspec": {
   "display_name": "Python 3",
   "language": "python",
   "name": "python3"
  },
  "language_info": {
   "codemirror_mode": {
    "name": "ipython",
    "version": 3
   },
   "file_extension": ".py",
   "mimetype": "text/x-python",
   "name": "python",
   "nbconvert_exporter": "python",
   "pygments_lexer": "ipython3",
   "version": "3.8.6"
  }
 },
 "nbformat": 4,
 "nbformat_minor": 4
}
