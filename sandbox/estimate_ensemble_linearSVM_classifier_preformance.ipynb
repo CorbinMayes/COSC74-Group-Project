{
 "cells": [
  {
   "cell_type": "markdown",
   "metadata": {},
   "source": [
    "This script estimates the performance of naive bayes classification in a document-topic model's feature space"
   ]
  },
  {
   "cell_type": "code",
   "execution_count": 19,
   "metadata": {},
   "outputs": [],
   "source": [
    "%load_ext autoreload\n",
    "%autoreload 2\n",
    "import time\n",
    "start_time = time.time()\n",
    "\n",
    "import json\n",
    "\n",
    "import nltk\n",
    "from nltk.tokenize import RegexpTokenizer\n",
    "from nltk.corpus import stopwords\n",
    "from nltk.stem.porter import PorterStemmer\n",
    "\n",
    "import numpy as np\n",
    "\n",
    "import sys\n",
    "sys.path.append(\"../libraries/\")\n",
    "from selector import split_data\n",
    "from semanticClassifiers import docTopTransformer2"
   ]
  },
  {
   "cell_type": "code",
   "execution_count": 2,
   "metadata": {},
   "outputs": [],
   "source": [
    "# Read in testing data for 80/20 split\n",
    "# we won't use val_dat at all\n",
    "json_dat, val_dat = split_data('../data/Sports_and_Outdoors_Reviews_training.json', 80)"
   ]
  },
  {
   "cell_type": "code",
   "execution_count": 3,
   "metadata": {},
   "outputs": [],
   "source": [
    "# create a list, doc_list, with one review per elem\n",
    "review = []\n",
    "summary = []\n",
    "rating = []\n",
    "prod_id = []\n",
    "for i in range(0,len(json_dat)):\n",
    "    if json_dat[i].get('reviewText') and json_dat[i].get('summary'): #not all reviews have text\n",
    "        rating.append(json_dat[i].get('overall'))\n",
    "        summary.append(json_dat[i].get('summary'))\n",
    "        review.append(json_dat[i].get('reviewText'))\n",
    "        prod_id.append(json_dat[i].get('asin'))"
   ]
  },
  {
   "cell_type": "code",
   "execution_count": 4,
   "metadata": {},
   "outputs": [],
   "source": [
    "def preprocess_data(doc_set):\n",
    "    \"\"\"\n",
    "    Input  : docuemnt list\n",
    "    Purpose: preprocess text (tokenize, removing stopwords, and stemming)\n",
    "    Output : preprocessed text\n",
    "    \"\"\"\n",
    "    # initialize regex tokenizer\n",
    "    tokenizer = RegexpTokenizer(r'\\w+')\n",
    "    # create English stop words list\n",
    "    en_stop = set(stopwords.words('english'))\n",
    "    # Create p_stemmer of class PorterStemmer\n",
    "    p_stemmer = PorterStemmer()\n",
    "    # list for tokenized documents in loop\n",
    "    texts = []\n",
    "    # loop through document list\n",
    "    for i in doc_set:\n",
    "        texts.append(preprocess_datum(i, tokenizer, p_stemmer, en_stop))\n",
    "    return texts\n",
    "\n",
    "def preprocess_datum(doc, tk, st, sw):\n",
    "    # clean and tokenize document string\n",
    "    raw = doc.lower()\n",
    "    tokens = tk.tokenize(raw)\n",
    "    # remove stop words from tokens\n",
    "    stopped_tokens = [i for i in tokens if not i in sw]\n",
    "    # stem tokens\n",
    "    return [st.stem(i) for i in stopped_tokens]"
   ]
  },
  {
   "cell_type": "code",
   "execution_count": 9,
   "metadata": {},
   "outputs": [],
   "source": [
    "from multiprocessing import Pool\n",
    "\n",
    "pool = Pool(16)\n",
    "x = pool.map(preprocess_data, [summary])\n",
    "pool.close()\n",
    "pool.join()\n",
    "\n",
    "x = x[0]"
   ]
  },
  {
   "cell_type": "code",
   "execution_count": 23,
   "metadata": {},
   "outputs": [
    {
     "data": {
      "text/plain": [
       "567"
      ]
     },
     "execution_count": 23,
     "metadata": {},
     "output_type": "execute_result"
    }
   ],
   "source": [
    "import gc\n",
    "\n",
    "del summary\n",
    "del review\n",
    "del json_dat\n",
    "del val_dat\n",
    "\n",
    "gc.collect()"
   ]
  },
  {
   "cell_type": "code",
   "execution_count": 14,
   "metadata": {},
   "outputs": [],
   "source": [
    "from gensim.corpora import Dictionary\n",
    "import gensim.matutils as matutils\n",
    "from scipy.sparse.csc import csc_matrix\n",
    "\n",
    "# vectorize training data\n",
    "train_lbls = np.array(rating) >= 4.5\n",
    "train_text = x"
   ]
  },
  {
   "cell_type": "code",
   "execution_count": 25,
   "metadata": {},
   "outputs": [
    {
     "name": "stdout",
     "output_type": "stream",
     "text": [
      "5496.655730485916\n"
     ]
    }
   ],
   "source": [
    "# estimate classifier accuracy\n",
    "from sklearn.model_selection import cross_val_predict, GroupKFold\n",
    "from sklearn.svm import LinearSVC, SVC\n",
    "from sklearn.naive_bayes import GaussianNB\n",
    "from sklearn.ensemble import BaggingClassifier\n",
    "from sklearn.pipeline import Pipeline\n",
    "\n",
    "# GroupKFold gives you a KFold partitioner that abides by\n",
    "# product labels so that products are only ever in a single\n",
    "# fold\n",
    "gkf = GroupKFold(n_splits=10)\n",
    "cv = gkf.split(train_text, train_lbls, groups=prod_id)\n",
    "\n",
    "time0 = time.time()\n",
    "\n",
    "# initialize a transformer mapping from bow to latent semantic features\n",
    "doc2Top = docTopTransformer2()\n",
    "\n",
    "# pick a classifier\n",
    "baseClf = LinearSVC()\n",
    "\n",
    "n_estimators=10\n",
    "clf = BaggingClassifier(base_estimator=baseClf, \n",
    "                        bootstrap=False, max_samples = 1.0/n_estimators, n_estimators=n_estimators,\n",
    "                        n_jobs=1)\n",
    "\n",
    "# create a pipeline that transforms data to semantic space, \n",
    "# and then classifies them by averaging over n_estimators of \n",
    "# type baseClf\n",
    "#\n",
    "# Note, you could bag over n semantic models too by creating\n",
    "# a pipeline using bow2Top and baseClf, and then passing that\n",
    "# in as th base_estimator argument of a BaggingClassifier\n",
    "# instance. If you think bagging classification of reviews will\n",
    "# lead to better classification performance for theoretical\n",
    "# reasons, this would be the way to go, however the purpose\n",
    "# of bagging here is for to avoid a bypass the slow SVM fitting\n",
    "# procedure\n",
    "estimators = [('projection', doc2Top), ('clf', clf)]\n",
    "semClf = Pipeline(estimators)\n",
    "\n",
    "# cross validate over the pipeline using group k-fold CV\n",
    "pred_lbls = cross_val_predict(semClf, train_text, train_lbls, cv=cv, n_jobs=5)\n",
    "time1 = time.time()\n",
    "\n",
    "print(time1-time0)"
   ]
  },
  {
   "cell_type": "code",
   "execution_count": 26,
   "metadata": {},
   "outputs": [
    {
     "name": "stdout",
     "output_type": "stream",
     "text": [
      "True recall is sensitivity, false recall is specificity\n",
      "              precision    recall  f1-score   support\n",
      "\n",
      "       False       0.80      0.46      0.58    589345\n",
      "        True       0.79      0.95      0.86   1235139\n",
      "\n",
      "    accuracy                           0.79   1824484\n",
      "   macro avg       0.79      0.70      0.72   1824484\n",
      "weighted avg       0.79      0.79      0.77   1824484\n",
      "\n",
      "Accuracy: 0.789\n"
     ]
    }
   ],
   "source": [
    "from sklearn.metrics import classification_report\n",
    "\n",
    "report = classification_report(train_lbls, pred_lbls)\n",
    "print('True recall is sensitivity, false recall is specificity')\n",
    "print(report)\n",
    "\n",
    "# this is not exactly the same as the average of each CV folds accuracy, \n",
    "# but it's close and much faster to compute\n",
    "acc = 1-np.mean(pred_lbls != train_lbls)\n",
    "print(\"Accuracy: %0.3f\" % acc)"
   ]
  },
  {
   "cell_type": "code",
   "execution_count": 29,
   "metadata": {},
   "outputs": [],
   "source": [
    "#clf.n_jobs = 5\n",
    "clf = BaggingClassifier(base_estimator=baseClf, \n",
    "                        bootstrap=False, max_samples = 1.0/n_estimators, n_estimators=n_estimators,\n",
    "                        n_jobs=5)\n",
    "\n",
    "estimators = [('projection', doc2Top), ('clf', clf)]\n",
    "semClf = Pipeline(estimators)\n",
    "\n",
    "semClf = semClf.fit(train_text,train_lbls)"
   ]
  },
  {
   "cell_type": "code",
   "execution_count": null,
   "metadata": {},
   "outputs": [],
   "source": [
    "# save fitted classifier\n",
    "#\n",
    "# classifier will project tokenized test data to the pretrained \n",
    "# document-topic embedding, apply two SVM classifiers, which may\n",
    "# be linear, polynomial or RBF kernel classifiers, with various\n",
    "# hyperparameters, average the results, and give you the \n",
    "# resulting prediction. The selected kernels and hyperparameters\n",
    "# are chosen to optimize f1 score\n",
    "import pickle\n",
    "with open('linearSVM.clf',mode='wb') as f:\n",
    "    pickle.dump(semClf,f)"
   ]
  },
  {
   "cell_type": "code",
   "execution_count": null,
   "metadata": {},
   "outputs": [],
   "source": []
  }
 ],
 "metadata": {
  "kernelspec": {
   "display_name": "Python 3",
   "language": "python",
   "name": "python3"
  },
  "language_info": {
   "codemirror_mode": {
    "name": "ipython",
    "version": 3
   },
   "file_extension": ".py",
   "mimetype": "text/x-python",
   "name": "python",
   "nbconvert_exporter": "python",
   "pygments_lexer": "ipython3",
   "version": "3.8.6"
  }
 },
 "nbformat": 4,
 "nbformat_minor": 4
}
