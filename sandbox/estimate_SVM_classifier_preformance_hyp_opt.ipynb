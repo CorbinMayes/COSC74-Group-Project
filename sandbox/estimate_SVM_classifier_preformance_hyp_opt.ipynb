{
 "cells": [
  {
   "cell_type": "markdown",
   "metadata": {},
   "source": [
    "This script estimates the performance of linear SVM classification in a document-topic model's feature space"
   ]
  },
  {
   "cell_type": "code",
   "execution_count": 6,
   "metadata": {},
   "outputs": [],
   "source": [
    "import time\n",
    "start_time = time.time()\n",
    "\n",
    "import json\n",
    "\n",
    "import nltk\n",
    "from nltk.tokenize import RegexpTokenizer\n",
    "from nltk.corpus import stopwords\n",
    "from nltk.stem.porter import PorterStemmer\n",
    "\n",
    "import numpy as np\n",
    "\n",
    "import sys\n",
    "sys.path.append(\"../libraries/\")\n",
    "from selector import split_data\n",
    "from semanticClassifiers import docTopTransformer2"
   ]
  },
  {
   "cell_type": "code",
   "execution_count": 7,
   "metadata": {},
   "outputs": [],
   "source": [
    "# Read in testing data for 80/20 split\n",
    "# we won't use val_dat at all\n",
    "json_dat, val_dat = split_data('../data/Sports_and_Outdoors_Reviews_training.json', 80)\n",
    "json_dat = json_dat[0:18000]\n",
    "del val_dat"
   ]
  },
  {
   "cell_type": "code",
   "execution_count": 8,
   "metadata": {},
   "outputs": [],
   "source": [
    "# create a list, doc_list, with one review per elem\n",
    "summary = []\n",
    "review = []\n",
    "rating = []\n",
    "prod_id = []\n",
    "for i in range(0,len(json_dat)):\n",
    "    if json_dat[i].get('reviewText') and json_dat[i].get('summary'): #not all reviews have text\n",
    "        rating.append(json_dat[i].get('overall'))\n",
    "        summary.append(json_dat[i].get('summary'))\n",
    "        review.append(json_dat[i].get('reviewText'))\n",
    "        prod_id.append(json_dat[i].get('asin'))"
   ]
  },
  {
   "cell_type": "code",
   "execution_count": 9,
   "metadata": {},
   "outputs": [],
   "source": [
    "from spellchecker import SpellChecker\n",
    "\n",
    "def preprocess_data(doc_set):\n",
    "    \"\"\"\n",
    "    Input  : docuemnt list\n",
    "    Purpose: preprocess text (tokenize, removing stopwords, and stemming)\n",
    "    Output : preprocessed text\n",
    "    \"\"\"\n",
    "    # initialize regex tokenizer\n",
    "    tokenizer = RegexpTokenizer(r'\\w+')\n",
    "    # create English stop words list\n",
    "    en_stop = set(stopwords.words('english'))\n",
    "    # create spellchecker\n",
    "    sp = SpellChecker()\n",
    "    # Create p_stemmer of class PorterStemmer\n",
    "    p_stemmer = PorterStemmer()\n",
    "    # list for tokenized documents in loop\n",
    "    texts = []\n",
    "    # loop through document list\n",
    "    for i in doc_set:\n",
    "        # clean and tokenize document string\n",
    "        raw = i.lower()\n",
    "        tokens = tokenizer.tokenize(raw)        \n",
    "        # autocorrect spelling\n",
    "        #tokens = [sp.correction(this_tok) for this_tok in tokens]\n",
    "        # remove stop words from tokens\n",
    "        stopped_tokens = [this_tok for this_tok in tokens if not this_tok in en_stop]\n",
    "        # stem tokens\n",
    "        stemmed_tokens = [p_stemmer.stem(this_tok) for this_tok in stopped_tokens]\n",
    "        # add tokens to list\n",
    "        texts.append(stemmed_tokens)\n",
    "    return texts"
   ]
  },
  {
   "cell_type": "code",
   "execution_count": 10,
   "metadata": {},
   "outputs": [],
   "source": [
    "summary_tok=preprocess_data(summary)\n",
    "review_tok=preprocess_data(review)\n",
    "awesome = np.array([x >= 4.5 for x in rating])"
   ]
  },
  {
   "cell_type": "code",
   "execution_count": null,
   "metadata": {},
   "outputs": [],
   "source": [
    "# run this cell tweaking the search space a big until you're satisfied you're\n",
    "# at a local minimum, and not up against the edge of the search space\n",
    "\n",
    "from sklearn.model_selection import cross_val_predict, GroupKFold\n",
    "from sklearn.svm import LinearSVC, SVC\n",
    "from sklearn.model_selection import GridSearchCV\n",
    "\n",
    "from sklearn.pipeline import Pipeline\n",
    "from copy import deepcopy\n",
    "\n",
    "idx = np.random.permutation([x for x in range(0, len(summary_tok))])\n",
    "sample_idx = idx[0:np.power(2,12)]\n",
    "\n",
    "train_lbls = awesome[sample_idx]\n",
    "this_prod_id = [prod_id[i] for i in sample_idx]\n",
    "sum_train_text = deepcopy([summary_tok[i] for i in sample_idx])\n",
    "#rev_train_text = deepcopy([review_tok[i] for i in sample_idx])\n",
    "\n",
    "gkf = GroupKFold(n_splits=5)\n",
    "cv = gkf.split(sum_train_text, train_lbls, groups=this_prod_id)\n",
    "\n",
    "#tuned_parameters = [{'doc2Top__d': [100,200,300,400],\n",
    "#                     'clf__C': [1, 10, 100, 1000]}]\n",
    "tuned_parameters = [{'clf__kernel': ['rbf'], \n",
    "                     'clf__gamma': [1e-2, 1e-3, 1e-4],\n",
    "                     'clf__C': [100, 1000, 10000]},\n",
    "                     {'clf__kernel': ['linear'], \n",
    "                      'clf__C': [100, 1000, 10000]},\n",
    "                     {'clf__kernel': ['poly'], \n",
    "                      'clf__C': [100, 1000, 10000],\n",
    "                      'clf__degree': [2]}]\n",
    "\n",
    "doc2Top = docTopTransformer2()\n",
    "baseClf = SVC(kernel='rbf')\n",
    "estimators = [('doc2Top', doc2Top), ('clf', baseClf)]\n",
    "semClf = Pipeline(estimators)\n",
    "n_estimators=4\n",
    "clf = GridSearchCV(semClf, tuned_parameters, cv=cv)\n",
    "print(clf.best_params_)"
   ]
  },
  {
   "cell_type": "code",
   "execution_count": null,
   "metadata": {},
   "outputs": [],
   "source": [
    "# update the search space to be centered on the local minimum found above\n",
    "# this time run it on twice as much data, and do it twice\n",
    "# averaging over the results using a bagging classifier\n",
    "# compute CV metrics, and get a final model\n",
    "\n",
    "idx = np.random.permutation([x for x in range(0, len(summary_tok))])\n",
    "sample_idx = idx[0:np.power(2,13)]\n",
    "\n",
    "train_lbls = awesome[sample_idx]\n",
    "this_prod_id = [prod_id[i] for i in sample_idx]\n",
    "sum_train_text = deepcopy([summary_tok[i] for i in sample_idx])\n",
    "#rev_train_text = deepcopy([review_tok[i] for i in sample_idx])\n",
    "\n",
    "gkf = GroupKFold(n_splits=5)\n",
    "cv = gkf.split(sum_train_text, train_lbls, groups=this_prod_id)\n",
    "\n",
    "#tuned_parameters = [{'doc2Top__d': [100,200,300,400],\n",
    "#                     'clf__C': [1, 10, 100, 1000]}]\n",
    "tuned_parameters = [{'clf__kernel': ['rbf'], \n",
    "                     'clf__gamma': [1e-2, 1e-3, 1e-4],\n",
    "                     'clf__C': [100, 1000, 10000]},\n",
    "                     {'clf__kernel': ['linear'], \n",
    "                      'clf__C': [100, 1000, 10000]},\n",
    "                     {'clf__kernel': ['poly'], \n",
    "                      'clf__C': [100, 1000, 10000],\n",
    "                      'clf__degree': [2]}]\n",
    "\n",
    "doc2Top = docTopTransformer2()\n",
    "baseClf = SVC(kernel='rbf')\n",
    "estimators = [('doc2Top', doc2Top), ('clf', baseClf)]\n",
    "semClf = Pipeline(estimators)\n",
    "n_estimators=2\n",
    "\n",
    "clf = GridSearchCV(semClf, tuned_parameters, cv=cv, scoring='f1_macro')\n",
    "bag = BaggingClassifier(base_estimator=clf, \n",
    "                        bootstrap=False, max_samples = 1.0/n_estimators, n_estimators=n_estimators,\n",
    "                        n_jobs=1)\n",
    "\n",
    "t0 = time.time()\n",
    "sum_predict = cross_val_predict(bag, sum_train_text, train_lbls, groups=this_prod_id, cv=cv, n_jobs=3)\n",
    "t1 = time.time()\n",
    "print(t1-t0)\n",
    "clf = bag.fit(sum_train_text,train_lbls)"
   ]
  },
  {
   "cell_type": "code",
   "execution_count": 47,
   "metadata": {},
   "outputs": [
    {
     "name": "stdout",
     "output_type": "stream",
     "text": [
      "Summary Text Prediction\n",
      "              precision    recall  f1-score   support\n",
      "\n",
      "       False       0.78      0.42      0.55      1346\n",
      "        True       0.77      0.94      0.85      2750\n",
      "\n",
      "    accuracy                           0.77      4096\n",
      "   macro avg       0.77      0.68      0.70      4096\n",
      "weighted avg       0.77      0.77      0.75      4096\n",
      "\n",
      "{'clf__C': 1000, 'clf__gamma': 0.001}\n"
     ]
    }
   ],
   "source": [
    "from sklearn.metrics import classification_report\n",
    "\n",
    "report = classification_report(train_lbls, sum_predict)\n",
    "print('Summary Text Prediction')\n",
    "print(report)"
   ]
  },
  {
   "cell_type": "code",
   "execution_count": 43,
   "metadata": {},
   "outputs": [
    {
     "name": "stdout",
     "output_type": "stream",
     "text": [
      "Summary Text Prediction\n",
      "              precision    recall  f1-score   support\n",
      "\n",
      "       False       0.70      0.51      0.59      1380\n",
      "        True       0.78      0.89      0.83      2716\n",
      "\n",
      "    accuracy                           0.76      4096\n",
      "   macro avg       0.74      0.70      0.71      4096\n",
      "weighted avg       0.76      0.76      0.75      4096\n",
      "\n",
      "{'clf__C': 1, 'doc2Top__d': 400}\n"
     ]
    }
   ],
   "source": [
    "gkf = GroupKFold(n_splits=5)\n",
    "cv = gkf.split(sum_train_text, train_lbls, groups=this_prod_id)\n",
    "sum_predict_default = cross_val_predict(semClf, sum_train_text, train_lbls, groups=this_prod_id, cv=cv, n_jobs=3)\n",
    "\n",
    "report = classification_report(train_lbls, sum_predict_default)\n",
    "print('Prediction using hyperparameter defaults')\n",
    "print(report)"
   ]
  },
  {
   "cell_type": "code",
   "execution_count": null,
   "metadata": {},
   "outputs": [],
   "source": [
    "# save fitted classifier\n",
    "#\n",
    "# classifier will project tokenized test data to the pretrained \n",
    "# document-topic embedding, apply two SVM classifiers, which may\n",
    "# be linear, polynomial or RBF kernel classifiers, with various\n",
    "# hyperparameters, average the results, and give you the \n",
    "# resulting prediction. The selected kernels and hyperparameters\n",
    "# are chosen to optimize f1 score\n",
    "import pickle\n",
    "with open('hypOptSVM.clf',mode='wb') as f:\n",
    "    pickle.dump(clf,f)"
   ]
  }
 ],
 "metadata": {
  "kernelspec": {
   "display_name": "Python 3",
   "language": "python",
   "name": "python3"
  },
  "language_info": {
   "codemirror_mode": {
    "name": "ipython",
    "version": 3
   },
   "file_extension": ".py",
   "mimetype": "text/x-python",
   "name": "python",
   "nbconvert_exporter": "python",
   "pygments_lexer": "ipython3",
   "version": "3.6.12"
  }
 },
 "nbformat": 4,
 "nbformat_minor": 4
}
