{
 "cells": [
  {
   "cell_type": "code",
   "execution_count": 1,
   "metadata": {},
   "outputs": [],
   "source": [
    "import math\n",
    "import json\n",
    "# from selector import splitData\n",
    "\n",
    "import sys\n",
    "sys.path.append(\"../libraries/\")\n",
    "from selector import split_data"
   ]
  },
  {
   "cell_type": "code",
   "execution_count": 2,
   "metadata": {},
   "outputs": [],
   "source": [
    "# Read in data from test\n",
    "with open('../data/Sports_and_Outdoors_Reviews_test.json', 'r') as fp:\n",
    "    test_lines = [json.loads(x) for x in fp.readlines()]\n",
    "    \n",
    "# Read in the data from training\n",
    "with open('../data/Sports_and_Outdoors_Reviews_training.json', 'r') as fp:\n",
    "    training_lines = [json.loads(x) for x in fp.readlines()]"
   ]
  },
  {
   "cell_type": "code",
   "execution_count": 3,
   "metadata": {},
   "outputs": [],
   "source": [
    "# Read in testing data for 80/20 split\n",
    "eighty, twenty = split_data('../data/Sports_and_Outdoors_Reviews_training.json', 80)"
   ]
  },
  {
   "cell_type": "code",
   "execution_count": 4,
   "metadata": {},
   "outputs": [],
   "source": [
    "prodEighty = {x['asin'] for x in eighty}\n",
    "prodTwenty = {x['asin'] for x in twenty}\n",
    "prodTraining = {x['asin'] for x in training_lines}\n",
    "prodTesting = {x['asin'] for x in test_lines}"
   ]
  },
  {
   "cell_type": "code",
   "execution_count": 5,
   "metadata": {},
   "outputs": [],
   "source": [
    "eightyandtwenty = prodEighty.intersection(prodTwenty)\n",
    "trainingandtest = prodTraining.intersection(prodTesting)"
   ]
  },
  {
   "cell_type": "code",
   "execution_count": 6,
   "metadata": {},
   "outputs": [
    {
     "name": "stdout",
     "output_type": "stream",
     "text": [
      "Common in 80/20: 0\n",
      "Common in training and test: 0\n",
      "2282297\n",
      "557643\n",
      "1825511\n",
      "456786\n"
     ]
    }
   ],
   "source": [
    "print(f\"Common in 80/20: {len(eightyandtwenty)}\")\n",
    "print(f\"Common in training and test: {len(trainingandtest)}\")\n",
    "\n",
    "print(len(training_lines))\n",
    "print(len(test_lines))\n",
    "print(len(eighty))\n",
    "print(len(twenty))"
   ]
  }
 ],
 "metadata": {
  "kernelspec": {
   "display_name": "Python 3",
   "language": "python",
   "name": "python3"
  },
  "language_info": {
   "codemirror_mode": {
    "name": "ipython",
    "version": 3
   },
   "file_extension": ".py",
   "mimetype": "text/x-python",
   "name": "python",
   "nbconvert_exporter": "python",
   "pygments_lexer": "ipython3",
   "version": "3.6.12"
  }
 },
 "nbformat": 4,
 "nbformat_minor": 4
}
