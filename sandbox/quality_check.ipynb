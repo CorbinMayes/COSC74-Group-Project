{
 "cells": [
  {
   "cell_type": "code",
   "execution_count": 1,
   "metadata": {},
   "outputs": [],
   "source": [
    "import math\n",
    "import json\n",
    "# from selector import splitData"
   ]
  },
  {
   "cell_type": "code",
   "execution_count": 2,
   "metadata": {},
   "outputs": [],
   "source": [
    "# Splits the data into (training, testing)\n",
    "def split_data(path, percent):\n",
    "    with open(path, 'r') as fp:\n",
    "        all_objs = [json.loads(x) for x in fp.readlines()]\n",
    "        \n",
    "    index = math.floor((percent/100)*len(all_objs))\n",
    "    return (all_objs[:index], all_objs[index:])"
   ]
  },
  {
   "cell_type": "code",
   "execution_count": 10,
   "metadata": {},
   "outputs": [],
   "source": [
    "# Read in data from test\n",
    "with open('../data/Sports_and_Outdoors_Reviews_test.json', 'r') as fp:\n",
    "    test_lines = [json.loads(x) for x in fp.readlines()]\n",
    "    \n",
    "# Read in the data from training\n",
    "with open('../data/Sports_and_Outdoors_Reviews_training.json', 'r') as fp:\n",
    "    training_lines = [json.loads(x) for x in fp.readlines()]\n",
    "    \n",
    "# Read in testing data for 80/20 split\n",
    "eighty, twenty = split_data('../data/Sports_and_Outdoors_Reviews_training.json', 80)"
   ]
  },
  {
   "cell_type": "code",
   "execution_count": 12,
   "metadata": {},
   "outputs": [],
   "source": [
    "prodEighty = {x['asin'] for x in eighty}\n",
    "prodTwenty = {x['asin'] for x in twenty}\n",
    "prodTraining = {x['asin'] for x in training_lines}\n",
    "prodTesting = {x['asin'] for x in test_lines}"
   ]
  },
  {
   "cell_type": "code",
   "execution_count": 13,
   "metadata": {},
   "outputs": [],
   "source": [
    "eightyandtwenty = prodEighty.intersection(prodTwenty)\n",
    "trainingandtest = prodTraining.intersection(prodTesting)"
   ]
  },
  {
   "cell_type": "code",
   "execution_count": 38,
   "metadata": {},
   "outputs": [
    {
     "name": "stdout",
     "output_type": "stream",
     "text": [
      "Common in 80/20: 1\n",
      "Common in twenty and test: 4102\n",
      "Common in eighty and test: 16837\n"
     ]
    }
   ],
   "source": [
    "print(f\"Common in 80/20: {len(eightyandtwenty)}\")\n",
    "print(f\"Common in twenty and test: {len(trainingandte)}\")"
   ]
  },
  {
   "cell_type": "code",
   "execution_count": 8,
   "metadata": {},
   "outputs": [
    {
     "data": {
      "text/plain": [
       "557643"
      ]
     },
     "execution_count": 8,
     "metadata": {},
     "output_type": "execute_result"
    }
   ],
   "source": [
    "len(testing_lines)"
   ]
  }
 ],
 "metadata": {
  "kernelspec": {
   "display_name": "Python 3",
   "language": "python",
   "name": "python3"
  },
  "language_info": {
   "codemirror_mode": {
    "name": "ipython",
    "version": 3
   },
   "file_extension": ".py",
   "mimetype": "text/x-python",
   "name": "python",
   "nbconvert_exporter": "python",
   "pygments_lexer": "ipython3",
   "version": "3.6.12"
  }
 },
 "nbformat": 4,
 "nbformat_minor": 4
}
