{
 "cells": [
  {
   "cell_type": "code",
   "execution_count": 30,
   "metadata": {},
   "outputs": [],
   "source": [
    "import math\n",
    "import json\n",
    "# from selector import splitData"
   ]
  },
  {
   "cell_type": "code",
   "execution_count": 34,
   "metadata": {},
   "outputs": [],
   "source": [
    "# Splits the data into (training, testing)\n",
    "def split_data(path, percent):\n",
    "    with open(path, 'r') as fp:\n",
    "        all_objs = [json.loads(x) for x in fp.readlines()]\n",
    "        \n",
    "    index = math.floor((percent/100)*len(all_objs))\n",
    "    return (all_objs[:index], all_objs[index:])"
   ]
  },
  {
   "cell_type": "code",
   "execution_count": 35,
   "metadata": {},
   "outputs": [],
   "source": [
    "# Read in the data from testing \n",
    "with open('../data/Sports_and_Outdoors_Reviews_test.json', 'r') as fp:\n",
    "    testing_lines = [json.loads(x) for x in fp.readlines()]\n",
    "    \n",
    "# Read in testing data for 80/20 split\n",
    "eighty, twenty = split_data('../data/Sports_and_Outdoors_Reviews_test.json', 80)"
   ]
  },
  {
   "cell_type": "code",
   "execution_count": 36,
   "metadata": {},
   "outputs": [],
   "source": [
    "prodEighty = {x['asin'] for x in eighty}\n",
    "prodTwenty = {x['asin'] for x in twenty}\n",
    "prodTesting = {x['asin'] for x in testing_lines}"
   ]
  },
  {
   "cell_type": "code",
   "execution_count": 37,
   "metadata": {},
   "outputs": [],
   "source": [
    "eightyandtwenty = prodEighty.intersection(prodTwenty)\n",
    "twentyandtest = prodTesting.intersection(prodTwenty)\n",
    "eightyandtest = prodEighty.intersection(prodTesting)"
   ]
  },
  {
   "cell_type": "code",
   "execution_count": 38,
   "metadata": {},
   "outputs": [
    {
     "name": "stdout",
     "output_type": "stream",
     "text": [
      "Common in 80/20: 1\n",
      "Common in twenty and test: 4102\n",
      "Common in eighty and test: 16837\n"
     ]
    }
   ],
   "source": [
    "print(f\"Common in 80/20: {len(eightyandtwenty)}\")\n",
    "print(f\"Common in twenty and test: {len(twentyandtest)}\")\n",
    "print(f\"Common in eighty and test: {len(eightyandtest)}\")"
   ]
  }
 ],
 "metadata": {
  "kernelspec": {
   "display_name": "Python 3",
   "language": "python",
   "name": "python3"
  },
  "language_info": {
   "codemirror_mode": {
    "name": "ipython",
    "version": 3
   },
   "file_extension": ".py",
   "mimetype": "text/x-python",
   "name": "python",
   "nbconvert_exporter": "python",
   "pygments_lexer": "ipython3",
   "version": "3.6.5"
  }
 },
 "nbformat": 4,
 "nbformat_minor": 4
}
