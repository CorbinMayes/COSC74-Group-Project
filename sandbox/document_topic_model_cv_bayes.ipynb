{
 "cells": [
  {
   "cell_type": "markdown",
   "metadata": {},
   "source": [
    "This script demonstrates how to use cross validation to estimate the performance of a naive bayes classifier based on a document-topic model of review content. Important points to note:\n",
    "\n",
    "* cross validation groups by product id to ensure independence assumptions across CV folds are satisfied\n",
    "* document topic model construction is incorporated into CV model training\n",
    "* the REAL validation data is never actually used here. After separating training and validation data, I only work with training data. I make a second subdivision for a validation dataset for the sake of this script because this is not the final product and I don't want to touch the real validation data until the final product is ready"
   ]
  },
  {
   "cell_type": "code",
   "execution_count": 1,
   "metadata": {},
   "outputs": [],
   "source": [
    "import json\n",
    "\n",
    "import nltk\n",
    "from nltk.tokenize import RegexpTokenizer\n",
    "from nltk.corpus import stopwords\n",
    "from nltk.stem.porter import PorterStemmer\n",
    "#from nltk import bigrams\n",
    "\n",
    "import numpy as np\n",
    "#import itertools\n",
    "\n",
    "#import matplotlib.pyplot as plt\n",
    "\n",
    "import sys\n",
    "sys.path.append(\"../libraries/\")\n",
    "from selector import split_data\n",
    "from semanticClassifiers import semantic_NB"
   ]
  },
  {
   "cell_type": "code",
   "execution_count": 2,
   "metadata": {},
   "outputs": [],
   "source": [
    "# Read in testing data for 80/20 split\n",
    "# we won't use val_dat at all\n",
    "json_dat, val_dat = split_data('../data/Sports_and_Outdoors_Reviews_training.json', 80)"
   ]
  },
  {
   "cell_type": "code",
   "execution_count": 3,
   "metadata": {},
   "outputs": [],
   "source": [
    "# create a list, doc_list, with one review per elem\n",
    "doc_list = []\n",
    "rating = []\n",
    "prod_id = []\n",
    "for i in range(0,len(json_dat)):\n",
    "    if json_dat[i].get('reviewText'): #not all reviews have text\n",
    "        rating.append(json_dat[i].get('overall'))\n",
    "        doc_list.append(json_dat[i].get('reviewText'))\n",
    "        prod_id.append(json_dat[i].get('asin'))"
   ]
  },
  {
   "cell_type": "code",
   "execution_count": 4,
   "metadata": {},
   "outputs": [],
   "source": [
    "def preprocess_data(doc_set):\n",
    "    \"\"\"\n",
    "    Input  : docuemnt list\n",
    "    Purpose: preprocess text (tokenize, removing stopwords, and stemming)\n",
    "    Output : preprocessed text\n",
    "    \"\"\"\n",
    "    # initialize regex tokenizer\n",
    "    tokenizer = RegexpTokenizer(r'\\w+')\n",
    "    # create English stop words list\n",
    "    en_stop = set(stopwords.words('english'))\n",
    "    # Create p_stemmer of class PorterStemmer\n",
    "    p_stemmer = PorterStemmer()\n",
    "    # list for tokenized documents in loop\n",
    "    texts = []\n",
    "    # loop through document list\n",
    "    for i in doc_set:\n",
    "        # clean and tokenize document string\n",
    "        raw = i.lower()\n",
    "        tokens = tokenizer.tokenize(raw)\n",
    "        # remove stop words from tokens\n",
    "        stopped_tokens = [i for i in tokens if not i in en_stop]\n",
    "        # stem tokens\n",
    "        stemmed_tokens = [p_stemmer.stem(i) for i in stopped_tokens]\n",
    "        # add tokens to list\n",
    "        texts.append(stemmed_tokens)\n",
    "    return texts"
   ]
  },
  {
   "cell_type": "code",
   "execution_count": 5,
   "metadata": {},
   "outputs": [],
   "source": [
    "clean_text=preprocess_data(doc_list[0:100000])"
   ]
  },
  {
   "cell_type": "code",
   "execution_count": 6,
   "metadata": {},
   "outputs": [],
   "source": [
    "# first let's make an 80/20 split, so we can estimate our classifier performance\n",
    "# in that 80% and then compare it with the 20%. We don't want to use val_dat from\n",
    "# split_data() here, because we don't want to start peaking at our REAL validation\n",
    "# data at this point.\n",
    "from sklearn.model_selection import GroupKFold\n",
    "gkf = GroupKFold(n_splits=5)\n",
    "groupIterator = gkf.split(clean_text[0:100000], rating[0:100000], groups=prod_id[0:100000])\n",
    "train, val = next(groupIterator)"
   ]
  },
  {
   "cell_type": "markdown",
   "metadata": {},
   "source": [
    "We will call on the custom semantic_NB class here. It's in the libraries folder. You should take a moment to look at it before scanning the code further"
   ]
  },
  {
   "cell_type": "code",
   "execution_count": 7,
   "metadata": {},
   "outputs": [],
   "source": [
    "# estimate classifier accuracy\n",
    "from sklearn.model_selection import cross_val_score\n",
    "\n",
    "# train are just indices, so let's extract the corresponding data elements\n",
    "train_text = [clean_text[x] for x in train]\n",
    "train_lbls = [rating[x] >= 4.5 for x in train]\n",
    "train_prod_id = [prod_id[x] for x in train]\n",
    "\n",
    "# GroupKFold gives you a KFold partitioner that abides by\n",
    "# product labels so that products are only ever in a single\n",
    "# fold\n",
    "from sklearn.model_selection import GroupKFold\n",
    "gkf = GroupKFold(n_splits=5)\n",
    "cv = gkf.split(train_text, train_lbls, groups=train_prod_id)\n",
    "\n",
    "clf = semantic_NB()\n",
    "# there will be k estimates here, one for each partitioning of the data\n",
    "scores = cross_val_score(clf, train_text, train_lbls, cv=cv)"
   ]
  },
  {
   "cell_type": "code",
   "execution_count": 8,
   "metadata": {},
   "outputs": [],
   "source": [
    "# test classifier accuracy on validation data\n",
    "\n",
    "val_text = [clean_text[x] for x in val]\n",
    "val_lbls = [rating[x] >= 4.5 for x in val]\n",
    "\n",
    "predictor = semantic_NB()\n",
    "predictor.fit(train_text, train_lbls)\n",
    "pred_lbl = predictor.predict(val_text)"
   ]
  },
  {
   "cell_type": "code",
   "execution_count": 9,
   "metadata": {},
   "outputs": [
    {
     "name": "stdout",
     "output_type": "stream",
     "text": [
      "Estimated classifier accuracy based on CV estimator: 0.64575\n",
      "Classifier accuracy in validation data: 0.64535\n"
     ]
    }
   ],
   "source": [
    "print(\"Estimated classifier accuracy based on CV estimator: %0.5f\" % np.mean(scores))\n",
    "\n",
    "acc = 1 - (val_lbls != pred_lbl).sum()/len(val_lbls)\n",
    "print(\"Classifier accuracy in validation data: %0.5f\" % acc)"
   ]
  }
 ],
 "metadata": {
  "kernelspec": {
   "display_name": "Python 3",
   "language": "python",
   "name": "python3"
  },
  "language_info": {
   "codemirror_mode": {
    "name": "ipython",
    "version": 3
   },
   "file_extension": ".py",
   "mimetype": "text/x-python",
   "name": "python",
   "nbconvert_exporter": "python",
   "pygments_lexer": "ipython3",
   "version": "3.6.12"
  }
 },
 "nbformat": 4,
 "nbformat_minor": 4
}
