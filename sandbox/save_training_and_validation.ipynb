{
 "cells": [
  {
   "cell_type": "code",
   "execution_count": 19,
   "metadata": {},
   "outputs": [],
   "source": [
    "import json\n",
    "\n",
    "import sys\n",
    "sys.path.append(\"../libraries/\")\n",
    "from selector import split_data\n",
    "\n",
    "json_dat, val_dat = split_data('../data/Sports_and_Outdoors_Reviews_training.json', 80)\n",
    "\n",
    "with open('../data/Sports_and_Outdoors_Reviews_training_new.json', 'w') as outfile:\n",
    "    for x in json_dat:\n",
    "        outfile.write(json.dumps(x) + '\\n')\n",
    "    \n",
    "with open('../data/Sports_and_Outdoors_Reviews_training_validation.json', 'w') as outfile:\n",
    "    for x in val_dat:\n",
    "        outfile.write(json.dumps(x) + '\\n')"
   ]
  },
  {
   "cell_type": "code",
   "execution_count": 20,
   "metadata": {},
   "outputs": [],
   "source": [
    "# test check\n",
    "saved_json_dat = []\n",
    "with open('../data/Sports_and_Outdoors_Reviews_training_new.json', 'r') as fp:\n",
    "    for x in fp.readlines():\n",
    "        x1 = json.loads(x)\n",
    "        saved_json_dat.append(x1) \n",
    "\n",
    "assert len(saved_json_dat) == len(json_dat)"
   ]
  },
  {
   "cell_type": "code",
   "execution_count": 21,
   "metadata": {},
   "outputs": [],
   "source": [
    "# validation check\n",
    "saved_json_dat = []\n",
    "with open('../data/Sports_and_Outdoors_Reviews_training_validation.json', 'r') as fp:\n",
    "    for x in fp.readlines():\n",
    "        x1 = json.loads(x)\n",
    "        saved_json_dat.append(x1) \n",
    "\n",
    "assert len(saved_json_dat) == len(val_dat)"
   ]
  }
 ],
 "metadata": {
  "kernelspec": {
   "display_name": "Python 3",
   "language": "python",
   "name": "python3"
  },
  "language_info": {
   "codemirror_mode": {
    "name": "ipython",
    "version": 3
   },
   "file_extension": ".py",
   "mimetype": "text/x-python",
   "name": "python",
   "nbconvert_exporter": "python",
   "pygments_lexer": "ipython3",
   "version": "3.6.12"
  }
 },
 "nbformat": 4,
 "nbformat_minor": 4
}
