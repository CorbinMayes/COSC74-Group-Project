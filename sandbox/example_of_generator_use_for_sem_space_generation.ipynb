{
 "cells": [
  {
   "cell_type": "markdown",
   "metadata": {},
   "source": [
    "This script was an initial exploration of using generators to fit semantic spaces from disk (lower memory foot print). It's hard to work with conceptually unfortunately"
   ]
  },
  {
   "cell_type": "code",
   "execution_count": 1,
   "metadata": {},
   "outputs": [],
   "source": [
    "import time\n",
    "start_time = time.time()\n",
    "\n",
    "import json\n",
    "\n",
    "import nltk\n",
    "from nltk.tokenize import RegexpTokenizer\n",
    "from nltk.corpus import stopwords\n",
    "from nltk.stem.porter import PorterStemmer\n",
    "\n",
    "import numpy as np\n",
    "\n",
    "import sys\n",
    "sys.path.append(\"../libraries/\")\n",
    "from selector import split_data\n",
    "from semanticClassifiers import docTopTransformer"
   ]
  },
  {
   "cell_type": "code",
   "execution_count": 2,
   "metadata": {},
   "outputs": [],
   "source": [
    "# convert input to bag of words\n",
    "\n",
    "def preprocess_line(this_line):\n",
    "    \"\"\"\n",
    "    Input  : docuemnt list\n",
    "    Purpose: preprocess text (tokenize, removing stopwords, and stemming)\n",
    "    Output : preprocessed text\n",
    "    \"\"\"\n",
    "    # initialize regex tokenizer\n",
    "    tokenizer = RegexpTokenizer(r'\\w+')\n",
    "    # create English stop words list\n",
    "    en_stop = set(stopwords.words('english'))\n",
    "    # Create p_stemmer of class PorterStemmer\n",
    "    p_stemmer = PorterStemmer()\n",
    "    # list for tokenized documents in loop\n",
    "    texts = []\n",
    "    \n",
    "    # clean and tokenize document string\n",
    "    if this_line:\n",
    "        raw = this_line.lower()\n",
    "        tokens = tokenizer.tokenize(raw)\n",
    "        # remove stop words from tokens\n",
    "        stopped_tokens = [i for i in tokens if not i in en_stop]\n",
    "        # stem tokens\n",
    "        stemmed_tokens = [p_stemmer.stem(i) for i in stopped_tokens]\n",
    "        # add tokens to list\n",
    "        return stemmed_tokens\n",
    "    else:\n",
    "        return []\n",
    "\n",
    "def clean_text_gen(path, field):\n",
    "    import json\n",
    "    \n",
    "    with open(path, 'r') as fileHandle:\n",
    "        for line in fileHandle:\n",
    "            this_entry = json.loads(line)\n",
    "            yield preprocess_line(this_entry.get(field))\n",
    "        "
   ]
  },
  {
   "cell_type": "code",
   "execution_count": 5,
   "metadata": {},
   "outputs": [
    {
     "name": "stdout",
     "output_type": "stream",
     "text": [
      "945.5390586853027\n"
     ]
    }
   ],
   "source": [
    "import time\n",
    "\n",
    "# convert to bag of words\n",
    "from gensim.corpora import Dictionary\n",
    "import gensim.matutils as matutils\n",
    "\n",
    "field = 'reviewText'\n",
    "path = '../data/Sports_and_Outdoors_Reviews_training_new.json'\n",
    "text_gen = clean_text_gen(path, field)\n",
    "\n",
    "start_time = time.time()\n",
    "# train a document-topic model        \n",
    "this_dict = Dictionary(text_gen)\n",
    "end_time = time.time()\n",
    "print(end_time - start_time)"
   ]
  }
 ],
 "metadata": {
  "kernelspec": {
   "display_name": "Python 3",
   "language": "python",
   "name": "python3"
  },
  "language_info": {
   "codemirror_mode": {
    "name": "ipython",
    "version": 3
   },
   "file_extension": ".py",
   "mimetype": "text/x-python",
   "name": "python",
   "nbconvert_exporter": "python",
   "pygments_lexer": "ipython3",
   "version": "3.6.12"
  }
 },
 "nbformat": 4,
 "nbformat_minor": 4
}
