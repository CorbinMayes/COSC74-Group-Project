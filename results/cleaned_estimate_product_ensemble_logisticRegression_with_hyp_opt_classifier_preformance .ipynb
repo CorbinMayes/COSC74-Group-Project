{
 "cells": [
  {
   "cell_type": "markdown",
   "metadata": {},
   "source": [
    "This script estimates the performance of naive bayes classification in a document-topic model's feature space"
   ]
  },
  {
   "cell_type": "code",
   "execution_count": 40,
   "metadata": {},
   "outputs": [
    {
     "name": "stdout",
     "output_type": "stream",
     "text": [
      "The autoreload extension is already loaded. To reload it, use:\n",
      "  %reload_ext autoreload\n"
     ]
    }
   ],
   "source": [
    "%load_ext autoreload\n",
    "%autoreload 2\n",
    "import time\n",
    "start_time = time.time()\n",
    "\n",
    "import json\n",
    "\n",
    "import nltk\n",
    "from nltk.tokenize import RegexpTokenizer\n",
    "from nltk.corpus import stopwords\n",
    "from nltk.stem.porter import PorterStemmer\n",
    "\n",
    "import numpy as np\n",
    "\n",
    "import sys\n",
    "sys.path.append(\"../libraries/\")\n",
    "from selector import split_data\n",
    "from semanticClassifiers import docTopTransformer2, doc2Bow"
   ]
  },
  {
   "cell_type": "code",
   "execution_count": 41,
   "metadata": {},
   "outputs": [],
   "source": [
    "# takes list of text fields (e.g. summary or reviewText fields) and\n",
    "# tokenizes, removes stop words and stems. Returns result as array of \n",
    "# lists, one list per review\n",
    "def preprocess_data(doc_set):    \n",
    "    # initialize regex tokenizer\n",
    "    tokenizer = RegexpTokenizer(r'\\w+')\n",
    "    # create English stop words list\n",
    "    en_stop = set(stopwords.words('english'))\n",
    "    # Create p_stemmer of class PorterStemmer\n",
    "    p_stemmer = PorterStemmer()\n",
    "    # list for tokenized documents in loop\n",
    "    texts = []\n",
    "    # loop through document list\n",
    "    for i in doc_set:\n",
    "        if not i:\n",
    "            i = ' '\n",
    "        # clean and tokenize document string\n",
    "        raw = i.lower()\n",
    "        tokens = tokenizer.tokenize(raw)\n",
    "        tokens.append('null__') # add a bias term, will work as a kind of prior, important for empty reviews\n",
    "        # remove stop words from tokens\n",
    "        stopped_tokens = [i for i in tokens if not i in en_stop]\n",
    "        # stem tokens\n",
    "        stemmed_tokens = [p_stemmer.stem(i) for i in stopped_tokens]\n",
    "        # add tokens to list\n",
    "        texts.append(stemmed_tokens)\n",
    "    return texts\n",
    "\n",
    "# takes an array of lists as input, product labels, uniq_labels, and ratings,\n",
    "# and merges lists with matching labels among labels uniq_labels, averages\n",
    "# reviews belonging to the same, returns merged lists, and averaged ratings\n",
    "# uniq_labels should typically be np.unique(product labels), however \n",
    "# the option of specifying a subset is useful for parallelization to allow\n",
    "# different subsets to be processed by different engines\n",
    "def combine_reviews(text, asins, ratings):\n",
    "        products = [asins[0]]\n",
    "        combined_text = [text[0]]\n",
    "        average_rating = []\n",
    "        total_rating = ratings[0]\n",
    "        count = 1\n",
    "\n",
    "        #combine all the summaries into a single text and avg the review ratings for each product\n",
    "        for i in range(1, len(asins)):\n",
    "            last_element_index = len(products) - 1\n",
    "            if(asins[i] == products[last_element_index]):\n",
    "                combined_text[last_element_index] = combined_text[last_element_index] + text[i]\n",
    "                total_rating += ratings[i]\n",
    "                count += 1\n",
    "            else:\n",
    "                average_rating.append(total_rating/count)\n",
    "                products.append(asins[i])\n",
    "                combined_text.append(text[i])\n",
    "                total_rating = ratings[i]\n",
    "                count = 1\n",
    "        average_rating.append(total_rating/count)\n",
    "        \n",
    "        return (combined_text, products, average_rating)\n",
    "    \n",
    "#similar to combine_review but removes rating averaging for test data\n",
    "def combine_test_reviews(text, asins):\n",
    "        products = [asins[0]]\n",
    "        combined_text = [text[0]]\n",
    "\n",
    "        #combine all the summaries into a single text and avg the review ratings for each product\n",
    "        for i in range(1, len(asins)):\n",
    "            last_element_index = len(products) - 1\n",
    "            if(asins[i] == products[last_element_index]):\n",
    "                combined_text[last_element_index] = combined_text[last_element_index] + text[i]\n",
    "                \n",
    "            else:\n",
    "                products.append(asins[i])\n",
    "                combined_text.append(text[i])\n",
    "        \n",
    "        return (combined_text, products)"
   ]
  },
  {
   "cell_type": "code",
   "execution_count": 42,
   "metadata": {},
   "outputs": [],
   "source": [
    "# Read in testing data for 80/20 split\n",
    "# we won't use val_dat at all\n",
    "json_dat, val_dat = split_data('../data/Sports_and_Outdoors_Reviews_training.json', 80)\n",
    "\n",
    "#sort test data by asin\n",
    "json_dat = sorted(json_dat, key=lambda k: k['asin'])"
   ]
  },
  {
   "cell_type": "code",
   "execution_count": 43,
   "metadata": {},
   "outputs": [],
   "source": [
    "# create a list, doc_list, with one review per elem\n",
    "review = []\n",
    "summary = []\n",
    "rating = []\n",
    "prod_id = []\n",
    "for i in range(0,len(json_dat)):\n",
    "    rating.append(json_dat[i].get('overall'))\n",
    "    summary.append(json_dat[i].get('summary'))\n",
    "    review.append(json_dat[i].get('reviewText'))\n",
    "    prod_id.append(json_dat[i].get('asin'))"
   ]
  },
  {
   "cell_type": "code",
   "execution_count": 44,
   "metadata": {},
   "outputs": [
    {
     "name": "stdout",
     "output_type": "stream",
     "text": [
      "68.22944235801697\n"
     ]
    }
   ],
   "source": [
    "# takes ~96 CPU minutes\n",
    "\n",
    "# this cell runs things in parallel. make sure to start an \n",
    "# ipython cluster from the notebook dashboard's IPython Cluster\n",
    "# tab before running\n",
    "import ipyparallel as ipp\n",
    "\n",
    "rc = ipp.Client()\n",
    "dview = rc[:]\n",
    "dview.execute('from nltk.tokenize import RegexpTokenizer;' +\n",
    "              'from nltk.corpus import stopwords; ' + \n",
    "              'from nltk.stem.porter import PorterStemmer;' +\n",
    "              'import numpy as np;')\n",
    "\n",
    "# clean text\n",
    "dview.push(dict(preprocess_data=preprocess_data))\n",
    "dview.scatter('summary', summary) # partitions data\n",
    "\n",
    "%px cleaned_reviews = preprocess_data(summary)\n",
    "cleaned_reviews = dview.gather('cleaned_reviews').get()\n",
    "\n",
    "# combine text\n",
    "total_text, uniq_prod_id, avg_ratings = combine_reviews(cleaned_reviews, prod_id, rating)"
   ]
  },
  {
   "cell_type": "code",
   "execution_count": 48,
   "metadata": {},
   "outputs": [
    {
     "data": {
      "text/plain": [
       "888"
      ]
     },
     "execution_count": 48,
     "metadata": {},
     "output_type": "execute_result"
    }
   ],
   "source": [
    "import gc\n",
    "\n",
    "del summary\n",
    "del review\n",
    "del json_dat\n",
    "del val_dat\n",
    "\n",
    "gc.collect()"
   ]
  },
  {
   "cell_type": "code",
   "execution_count": 49,
   "metadata": {},
   "outputs": [],
   "source": [
    "# vectorize training data\n",
    "train_lbls = np.array(avg_ratings) >= 4.5\n",
    "train_text = total_text"
   ]
  },
  {
   "cell_type": "code",
   "execution_count": 69,
   "metadata": {
    "scrolled": false
   },
   "outputs": [
    {
     "name": "stdout",
     "output_type": "stream",
     "text": [
      "3484.0885138511658\n"
     ]
    }
   ],
   "source": [
    "# estimate classifier accuracy\n",
    "from sklearn.model_selection import cross_val_predict, KFold, GridSearchCV\n",
    "from sklearn.linear_model import LogisticRegression\n",
    "from sklearn.ensemble import BaggingClassifier\n",
    "from sklearn.pipeline import Pipeline\n",
    "from sklearn.preprocessing import Normalizer, FunctionTransformer\n",
    "\n",
    "# GroupKFold gives you a KFold partitioner that abides by\n",
    "# product labels so that products are only ever in a single\n",
    "# fold\n",
    "kf = KFold(n_splits=10)\n",
    "cv = kf.split(train_text, train_lbls)\n",
    "\n",
    "# initialize a transformer mapping from bow to latent semantic features\n",
    "doc2Top = docTopTransformer2()\n",
    "\n",
    "# initialize a normalization transformer\n",
    "norm_transformer = Normalizer()\n",
    "\n",
    "# pick a classifier\n",
    "baseClf = LogisticRegression(penalty='elasticnet', solver='saga', l1_ratio=0.5)\n",
    "\n",
    "params = {\n",
    "    'C': [10, 15, 20]\n",
    "}\n",
    "\n",
    "grid_LR = GridSearchCV(estimator = baseClf, param_grid = params, scoring = 'f1_macro', \n",
    "                       cv = 10, verbose = 1, n_jobs = 1)\n",
    "\n",
    "n_estimators=10\n",
    "clf = BaggingClassifier(base_estimator=grid_LR, \n",
    "                        bootstrap=False, max_samples = 1.0/n_estimators, n_estimators=n_estimators,\n",
    "                        n_jobs=1)\n",
    "\n",
    "# create a pipeline that transforms data to semantic space, \n",
    "# and then classifies them by averaging over n_estimators of \n",
    "# type baseClf\n",
    "#\n",
    "# Note, you could bag over n semantic models too by creating\n",
    "# a pipeline using bow2Top and baseClf, and then passing that\n",
    "# in as th base_estimator argument of a BaggingClassifier\n",
    "# instance. If you think bagging classification of reviews will\n",
    "# lead to better classification performance for theoretical\n",
    "# reasons, this would be the way to go, however the purpose\n",
    "# of bagging here is for to avoid a bypass the slow SVM fitting\n",
    "# procedure\n",
    "estimators = [('projection', doc2Top), ('normalization', norm_transformer), ('clf', clf)]\n",
    "semBagClf = Pipeline(estimators)\n",
    "\n",
    "# cross validate over the pipeline using group k-fold CV\n",
    "pred_lbls = cross_val_predict(semBagClf, train_text, train_lbls, cv=cv, n_jobs=4)"
   ]
  },
  {
   "cell_type": "code",
   "execution_count": 70,
   "metadata": {},
   "outputs": [
    {
     "name": "stdout",
     "output_type": "stream",
     "text": [
      "True recall is sensitivity, false recall is specificity\n",
      "              precision    recall  f1-score   support\n",
      "\n",
      "       False       0.77      0.76      0.76     34984\n",
      "        True       0.74      0.75      0.75     32354\n",
      "\n",
      "    accuracy                           0.75     67338\n",
      "   macro avg       0.75      0.75      0.75     67338\n",
      "weighted avg       0.75      0.75      0.75     67338\n",
      "\n",
      "Accuracy: 0.754\n"
     ]
    }
   ],
   "source": [
    "from sklearn.metrics import classification_report\n",
    "\n",
    "report = classification_report(train_lbls, pred_lbls)\n",
    "print('True recall is sensitivity, false recall is specificity')\n",
    "print(report)\n",
    "\n",
    "# this is not exactly the same as the average of each CV folds accuracy, \n",
    "# but it's close and much faster to compute\n",
    "acc = 1-np.mean(pred_lbls != train_lbls)\n",
    "print(\"Accuracy: %0.3f\" % acc)"
   ]
  },
  {
   "cell_type": "code",
   "execution_count": 71,
   "metadata": {},
   "outputs": [
    {
     "name": "stdout",
     "output_type": "stream",
     "text": [
      "LogisticRegression(C=20, l1_ratio=0.5, penalty='elasticnet',\n",
      "                   random_state=1570096259, solver='saga')\n",
      "LogisticRegression(C=10, l1_ratio=0.5, penalty='elasticnet',\n",
      "                   random_state=668900618, solver='saga')\n",
      "LogisticRegression(C=10, l1_ratio=0.5, penalty='elasticnet',\n",
      "                   random_state=1201338831, solver='saga')\n",
      "LogisticRegression(C=10, l1_ratio=0.5, penalty='elasticnet',\n",
      "                   random_state=97066811, solver='saga')\n",
      "LogisticRegression(C=10, l1_ratio=0.5, penalty='elasticnet',\n",
      "                   random_state=1976390254, solver='saga')\n",
      "LogisticRegression(C=10, l1_ratio=0.5, penalty='elasticnet',\n",
      "                   random_state=1615181950, solver='saga')\n",
      "LogisticRegression(C=10, l1_ratio=0.5, penalty='elasticnet',\n",
      "                   random_state=1092422327, solver='saga')\n",
      "LogisticRegression(C=10, l1_ratio=0.5, penalty='elasticnet',\n",
      "                   random_state=2118837176, solver='saga')\n",
      "LogisticRegression(C=10, l1_ratio=0.5, penalty='elasticnet',\n",
      "                   random_state=664069747, solver='saga')\n",
      "LogisticRegression(C=10, l1_ratio=0.5, penalty='elasticnet',\n",
      "                   random_state=820768831, solver='saga')\n"
     ]
    }
   ],
   "source": [
    "#fit the training data\n",
    "semBagClf = semBagClf.fit(train_text,train_lbls)"
   ]
  },
  {
   "cell_type": "code",
   "execution_count": 76,
   "metadata": {},
   "outputs": [],
   "source": [
    "# save fitted classifier\n",
    "\n",
    "import pickle\n",
    "with open('logisticRegression.clf',mode='wb') as f:\n",
    "    pickle.dump(semBagClf,f)"
   ]
  },
  {
   "cell_type": "code",
   "execution_count": null,
   "metadata": {},
   "outputs": [],
   "source": [
    "# import and prepare test data\n",
    "with open('../data/Sports_and_Outdoors_Reviews_test.json', 'r') as fp:\n",
    "    json_dat = [json.loads(x) for x in fp.readlines()]\n",
    "\n",
    "#json_dat = json_dat\n",
    "json_dat = sorted(json_dat, key=lambda k: k['asin'])\n",
    "    \n",
    "doc_list = []\n",
    "asin = []\n",
    "test_reviewer_id = []\n",
    "test_unixreviewtime = []\n",
    "for i in range(0,len(json_dat)):\n",
    "    doc_list.append(json_dat[i].get('reviewText')\n",
    "    asin.append(json_dat[i].get('asin'))\n",
    "    test_reviewer_id.append(json_dat[i].get('reviewerID'))\n",
    "    test_unixreviewtime.append(json_dat[i].get('unixReviewTime'))"
   ]
  },
  {
   "cell_type": "code",
   "execution_count": null,
   "metadata": {},
   "outputs": [],
   "source": [
    "# takes ~96 CPU minutes\n",
    "\n",
    "# this cell runs things in parallel. make sure to start an \n",
    "# ipython cluster from the notebook dashboard's IPython Cluster\n",
    "# tab before running\n",
    "import ipyparallel as ipp\n",
    "\n",
    "rc = ipp.Client()\n",
    "dview = rc[:]\n",
    "dview.execute('from nltk.tokenize import RegexpTokenizer;' +\n",
    "              'from nltk.corpus import stopwords; ' + \n",
    "              'from nltk.stem.porter import PorterStemmer;' +\n",
    "              'import numpy as np;')\n",
    "\n",
    "\n",
    "# clean text\n",
    "dview.push(dict(preprocess_data=preprocess_data))\n",
    "dview.scatter('doc_list', doc_list) # partitions data\n",
    "\n",
    "%px cleaned_reviews = preprocess_data(doc_list)\n",
    "cleaned_reviews = dview.gather('cleaned_reviews').get()\n",
    "\n",
    "# combine text\n",
    "total_text, uniq_prod_id = combine_test_reviews(cleaned_reviews, asin)"
   ]
  },
  {
   "cell_type": "code",
   "execution_count": null,
   "metadata": {},
   "outputs": [],
   "source": [
    "# get model predictions for test data\n",
    "pred_lbls = clf.predict(total_text)"
   ]
  },
  {
   "cell_type": "code",
   "execution_count": null,
   "metadata": {},
   "outputs": [],
   "source": [
    "#create output csv file from predictions\n",
    "dat = np.column_stack((uniq_prod_id, pred_lbls.astype(int)))\n",
    "np.savetxt(\"Sports_and_Outdoors_Ratings_test.csv\", dat, delimiter=\",\", fmt=['%s', '%s'], \n",
    "           header='asin,awesomeReview')"
   ]
  }
 ],
 "metadata": {
  "kernelspec": {
   "display_name": "Python 3",
   "language": "python",
   "name": "python3"
  },
  "language_info": {
   "codemirror_mode": {
    "name": "ipython",
    "version": 3
   },
   "file_extension": ".py",
   "mimetype": "text/x-python",
   "name": "python",
   "nbconvert_exporter": "python",
   "pygments_lexer": "ipython3",
   "version": "3.7.6"
  }
 },
 "nbformat": 4,
 "nbformat_minor": 4
}
