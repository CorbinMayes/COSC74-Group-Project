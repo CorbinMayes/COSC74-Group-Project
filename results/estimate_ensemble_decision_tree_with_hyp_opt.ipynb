{
 "cells": [
  {
   "cell_type": "markdown",
   "metadata": {},
   "source": [
    "This script estimates the performance of linear SVM classification in a document-topic model's feature space"
   ]
  },
  {
   "cell_type": "code",
   "execution_count": 88,
   "metadata": {},
   "outputs": [
    {
     "name": "stdout",
     "output_type": "stream",
     "text": [
      "The autoreload extension is already loaded. To reload it, use:\n",
      "  %reload_ext autoreload\n"
     ]
    }
   ],
   "source": [
    "%load_ext autoreload\n",
    "%autoreload 2\n",
    "import time\n",
    "start_time = time.time()\n",
    "\n",
    "import json\n",
    "\n",
    "import nltk\n",
    "from nltk.tokenize import RegexpTokenizer\n",
    "from nltk.corpus import stopwords\n",
    "from nltk.stem.porter import PorterStemmer\n",
    "\n",
    "import numpy as np\n",
    "\n",
    "import sys\n",
    "sys.path.append(\"../libraries/\")\n",
    "from selector import split_data\n",
    "from semanticClassifiers import docTopTransformer, doc2Bow"
   ]
  },
  {
   "cell_type": "code",
   "execution_count": 89,
   "metadata": {},
   "outputs": [],
   "source": [
    "# Read in testing data for 80/20 split\n",
    "# we won't use val_dat at all\n",
    "json_dat, val_dat = split_data('../data/Sports_and_Outdoors_Reviews_training.json', 80)\n",
    "json_dat = json_dat[0:100000] # use this for prototyping on smaller subsets\n",
    "del val_dat"
   ]
  },
  {
   "cell_type": "code",
   "execution_count": 90,
   "metadata": {},
   "outputs": [],
   "source": [
    "# create a list, doc_list, with one review per elem\n",
    "doc_list = []\n",
    "rating = []\n",
    "prod_id = []\n",
    "for i in range(0,len(json_dat)):\n",
    "    if json_dat[i].get('summary'): #not all reviews have summary text\n",
    "        rating.append(json_dat[i].get('overall'))\n",
    "        doc_list.append(json_dat[i].get('summary'))\n",
    "        prod_id.append(json_dat[i].get('asin'))"
   ]
  },
  {
   "cell_type": "code",
   "execution_count": 91,
   "metadata": {},
   "outputs": [],
   "source": [
    "def preprocess_data(doc_set):\n",
    "    \"\"\"\n",
    "    Input  : docuemnt list\n",
    "    Purpose: preprocess text (tokenize, removing stopwords, and stemming)\n",
    "    Output : preprocessed text\n",
    "    \"\"\"\n",
    "    # initialize regex tokenizer\n",
    "    tokenizer = RegexpTokenizer(r'\\w+')\n",
    "    # create English stop words list\n",
    "    en_stop = set(stopwords.words('english'))\n",
    "    # Create p_stemmer of class PorterStemmer\n",
    "    p_stemmer = PorterStemmer()\n",
    "    # list for tokenized documents in loop\n",
    "    texts = []\n",
    "    # loop through document list\n",
    "    for i in doc_set:\n",
    "        # clean and tokenize document string\n",
    "        raw = i.lower()\n",
    "        tokens = tokenizer.tokenize(raw)\n",
    "        # remove stop words from tokens\n",
    "        stopped_tokens = [i for i in tokens if not i in en_stop]\n",
    "        # stem tokens\n",
    "        stemmed_tokens = [p_stemmer.stem(i) for i in stopped_tokens]\n",
    "        # add tokens to list\n",
    "        texts.append(stemmed_tokens)\n",
    "    return texts"
   ]
  },
  {
   "cell_type": "code",
   "execution_count": 92,
   "metadata": {},
   "outputs": [],
   "source": [
    "from multiprocessing import Pool\n",
    "\n",
    "pool = Pool(16)\n",
    "x = pool.map(preprocess_data, [doc_list])\n",
    "pool.close()\n",
    "pool.join()\n",
    "\n",
    "clean_text = x[0]"
   ]
  },
  {
   "cell_type": "code",
   "execution_count": 93,
   "metadata": {},
   "outputs": [],
   "source": [
    "# vectorize training data\n",
    "train_lbls = np.array(rating) >= 4.5\n",
    "train_text = clean_text"
   ]
  },
  {
   "cell_type": "code",
   "execution_count": 94,
   "metadata": {},
   "outputs": [
    {
     "name": "stdout",
     "output_type": "stream",
     "text": [
      "2461.181562423706\n"
     ]
    }
   ],
   "source": [
    "# estimate classifier accuracy\n",
    "from sklearn.model_selection import cross_val_predict, GroupKFold\n",
    "from sklearn.tree import DecisionTreeClassifier\n",
    "from sklearn.ensemble import BaggingClassifier\n",
    "from sklearn.model_selection import GridSearchCV\n",
    "\n",
    "# similar to sklearn's but allows us to do some balancing operations that are\n",
    "# important for decision trees\n",
    "from imblearn.pipeline import Pipeline\n",
    "from imblearn.under_sampling import RandomUnderSampler\n",
    "\n",
    "bowGen = doc2Bow()\n",
    "bowGen = bowGen.fit(train_text)\n",
    "my_dict = bowGen.this_dict\n",
    "\n",
    "# GroupKFold gives you a KFold partitioner that abides by\n",
    "# product labels so that products are only ever in a single\n",
    "# fold\n",
    "gkf = GroupKFold(n_splits=10)\n",
    "cv = gkf.split(train_text, train_lbls, groups=prod_id)\n",
    "\n",
    "time0 = time.time()\n",
    "\n",
    "params = {\n",
    "    'baseClf__max_depth': [5, 7, 10, 15, 20],\n",
    "    'baseClf__min_samples_leaf': [1],\n",
    "    'baseClf__max_leaf_nodes': [20],\n",
    "}\n",
    "\n",
    "# pick a classifier\n",
    "bow2Top = docTopTransformer(this_dict=my_dict)\n",
    "baseClf = DecisionTreeClassifier()\n",
    "\n",
    "estimators = [('projection', bow2Top), ('baseClf', baseClf)]\n",
    "semClf = Pipeline(estimators)\n",
    "\n",
    "grid_DT = GridSearchCV(estimator = semClf, param_grid = params, scoring = 'f1_macro', \n",
    "                       cv = 5, verbose = 1, n_jobs = 1)\n",
    "\n",
    "n_estimators=10\n",
    "clf = BaggingClassifier(base_estimator=grid_DT, \n",
    "                        bootstrap=False, max_samples = 1.0/n_estimators, n_estimators=n_estimators,\n",
    "                        n_jobs=1)\n",
    "\n",
    "\n",
    "# create a pipeline that transforms data to semantic space, \n",
    "# and then classifies them by averaging over n_estimators of \n",
    "# type baseClf\n",
    "#\n",
    "# Note, you could bag over n semantic models too by creating\n",
    "# a pipeline using bow2Top and baseClf, and then passing that\n",
    "# in as th base_estimator argument of a BaggingClassifier\n",
    "# instance. If you think bagging classification of reviews will\n",
    "# lead to better classification performance for theoretical\n",
    "# reasons, this would be the way to go, however the purpose\n",
    "# of bagging here is for to avoid a bypass the slow SVM fitting\n",
    "# procedure\n",
    "undersamp = RandomUnderSampler(replacement=False)\n",
    "estimators = [('projection', bowGen), ('clf', clf)]\n",
    "semBagClf = Pipeline(estimators)\n",
    "\n",
    "# cross validate over the pipeline using group k-fold CV\n",
    "pred_lbls = cross_val_predict(semBagClf, train_text, train_lbls, cv=cv, n_jobs=10)\n",
    "\n",
    "time1 = time.time()\n",
    "print(time1-time0)"
   ]
  },
  {
   "cell_type": "code",
   "execution_count": 95,
   "metadata": {
    "scrolled": false
   },
   "outputs": [
    {
     "name": "stdout",
     "output_type": "stream",
     "text": [
      "True recall is sensitivity, false recall is specificity\n",
      "              precision    recall  f1-score   support\n",
      "\n",
      "       False       0.86      0.35      0.50     33325\n",
      "        True       0.75      0.97      0.85     66649\n",
      "\n",
      "    accuracy                           0.77     99974\n",
      "   macro avg       0.81      0.66      0.67     99974\n",
      "weighted avg       0.79      0.77      0.73     99974\n",
      "\n",
      "Accuracy: 0.766\n"
     ]
    }
   ],
   "source": [
    "from sklearn.metrics import classification_report\n",
    "\n",
    "report = classification_report(train_lbls, pred_lbls)\n",
    "print('True recall is sensitivity, false recall is specificity')\n",
    "print(report)\n",
    "\n",
    "# this is not exactly the same as the average of each CV folds accuracy, \n",
    "# but it's close and much faster to compute\n",
    "acc = 1-np.mean(pred_lbls != train_lbls)\n",
    "print(\"Accuracy: %0.3f\" % acc)"
   ]
  },
  {
   "cell_type": "code",
   "execution_count": 96,
   "metadata": {},
   "outputs": [],
   "source": [
    "clf = BaggingClassifier(base_estimator=grid_DT, \n",
    "                        bootstrap=False, max_samples = 1.0/n_estimators, n_estimators=n_estimators,\n",
    "                        n_jobs=10)\n",
    "\n",
    "\n",
    "# create a pipeline that transforms data to semantic space, \n",
    "# and then classifies them by averaging over n_estimators of \n",
    "# type baseClf\n",
    "#\n",
    "# Note, you could bag over n semantic models too by creating\n",
    "# a pipeline using bow2Top and baseClf, and then passing that\n",
    "# in as th base_estimator argument of a BaggingClassifier\n",
    "# instance. If you think bagging classification of reviews will\n",
    "# lead to better classification performance for theoretical\n",
    "# reasons, this would be the way to go, however the purpose\n",
    "# of bagging here is for to avoid a bypass the slow SVM fitting\n",
    "# procedure\n",
    "undersamp = RandomUnderSampler(replacement=False)\n",
    "estimators = [('projection', bowGen), ('clf', clf)]\n",
    "semBagClf = Pipeline(estimators)\n",
    "\n",
    "semBagClf = semBagClf.fit(train_text, train_lbls)"
   ]
  },
  {
   "cell_type": "code",
   "execution_count": 97,
   "metadata": {},
   "outputs": [
    {
     "name": "stdout",
     "output_type": "stream",
     "text": [
      "Pipeline(steps=[('projection',\n",
      "                 docTopTransformer(this_dict=<gensim.corpora.dictionary.Dictionary object at 0x2ab147fbfbb0>)),\n",
      "                ('baseClf',\n",
      "                 DecisionTreeClassifier(max_depth=15, max_leaf_nodes=20,\n",
      "                                        random_state=876777618))])\n",
      "Pipeline(steps=[('projection',\n",
      "                 docTopTransformer(this_dict=<gensim.corpora.dictionary.Dictionary object at 0x2ab173f6a8b0>)),\n",
      "                ('baseClf',\n",
      "                 DecisionTreeClassifier(max_depth=10, max_leaf_nodes=20,\n",
      "                                        random_state=1033613485))])\n",
      "Pipeline(steps=[('projection',\n",
      "                 docTopTransformer(this_dict=<gensim.corpora.dictionary.Dictionary object at 0x2ab173f6aaf0>)),\n",
      "                ('baseClf',\n",
      "                 DecisionTreeClassifier(max_depth=15, max_leaf_nodes=20,\n",
      "                                        random_state=1940349266))])\n",
      "Pipeline(steps=[('projection',\n",
      "                 docTopTransformer(this_dict=<gensim.corpora.dictionary.Dictionary object at 0x2ab159ad5bb0>)),\n",
      "                ('baseClf',\n",
      "                 DecisionTreeClassifier(max_depth=10, max_leaf_nodes=20,\n",
      "                                        random_state=1160320496))])\n",
      "Pipeline(steps=[('projection',\n",
      "                 docTopTransformer(this_dict=<gensim.corpora.dictionary.Dictionary object at 0x2ab19b1836a0>)),\n",
      "                ('baseClf',\n",
      "                 DecisionTreeClassifier(max_depth=20, max_leaf_nodes=20,\n",
      "                                        random_state=369283289))])\n",
      "Pipeline(steps=[('projection',\n",
      "                 docTopTransformer(this_dict=<gensim.corpora.dictionary.Dictionary object at 0x2ab173f68130>)),\n",
      "                ('baseClf',\n",
      "                 DecisionTreeClassifier(max_depth=10, max_leaf_nodes=20,\n",
      "                                        random_state=166969745))])\n",
      "Pipeline(steps=[('projection',\n",
      "                 docTopTransformer(this_dict=<gensim.corpora.dictionary.Dictionary object at 0x2ab173f680a0>)),\n",
      "                ('baseClf',\n",
      "                 DecisionTreeClassifier(max_depth=20, max_leaf_nodes=20,\n",
      "                                        random_state=463165728))])\n",
      "Pipeline(steps=[('projection',\n",
      "                 docTopTransformer(this_dict=<gensim.corpora.dictionary.Dictionary object at 0x2ab19b183640>)),\n",
      "                ('baseClf',\n",
      "                 DecisionTreeClassifier(max_depth=20, max_leaf_nodes=20,\n",
      "                                        random_state=959557615))])\n",
      "Pipeline(steps=[('projection',\n",
      "                 docTopTransformer(this_dict=<gensim.corpora.dictionary.Dictionary object at 0x2ab19b183df0>)),\n",
      "                ('baseClf',\n",
      "                 DecisionTreeClassifier(max_depth=15, max_leaf_nodes=20,\n",
      "                                        random_state=1705865081))])\n",
      "Pipeline(steps=[('projection',\n",
      "                 docTopTransformer(this_dict=<gensim.corpora.dictionary.Dictionary object at 0x2ab19b183e80>)),\n",
      "                ('baseClf',\n",
      "                 DecisionTreeClassifier(max_depth=15, max_leaf_nodes=20,\n",
      "                                        random_state=534307712))])\n"
     ]
    }
   ],
   "source": [
    "for this_clf in semBagClf[1]:\n",
    "    print(this_clf.best_estimator_)"
   ]
  },
  {
   "cell_type": "code",
   "execution_count": 98,
   "metadata": {},
   "outputs": [],
   "source": [
    "# save fitted classifier\n",
    "import pickle\n",
    "with open('ensembleDT.clf',mode='wb') as f:\n",
    "    pickle.dump(semBagClf,f)"
   ]
  }
 ],
 "metadata": {
  "kernelspec": {
   "display_name": "Python 3",
   "language": "python",
   "name": "python3"
  },
  "language_info": {
   "codemirror_mode": {
    "name": "ipython",
    "version": 3
   },
   "file_extension": ".py",
   "mimetype": "text/x-python",
   "name": "python",
   "nbconvert_exporter": "python",
   "pygments_lexer": "ipython3",
   "version": "3.8.6"
  }
 },
 "nbformat": 4,
 "nbformat_minor": 4
}
