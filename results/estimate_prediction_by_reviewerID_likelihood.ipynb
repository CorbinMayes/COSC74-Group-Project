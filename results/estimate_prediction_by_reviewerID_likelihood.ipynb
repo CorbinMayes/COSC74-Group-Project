{
 "cells": [
  {
   "cell_type": "markdown",
   "metadata": {},
   "source": [
    "This script estimates the performance of naive bayes classification in a document-topic model's feature space"
   ]
  },
  {
   "cell_type": "code",
   "execution_count": 1,
   "metadata": {},
   "outputs": [],
   "source": [
    "%load_ext autoreload\n",
    "%autoreload 2\n",
    "import time\n",
    "start_time = time.time()\n",
    "\n",
    "import json\n",
    "import numpy as np\n",
    "import csv\n",
    "\n",
    "import sys\n",
    "sys.path.append(\"../libraries/\")\n",
    "from selector import split_data"
   ]
  },
  {
   "cell_type": "code",
   "execution_count": 724,
   "metadata": {},
   "outputs": [],
   "source": [
    "# searches for first match to target in dat, beginning\n",
    "# search at start_offset\n",
    "# useful for searching sorted lists.\n",
    "def linearSearch(dat, target, start_offset=0):\n",
    "    for i in range(start_offset, len(dat)):\n",
    "        if target == dat[i]:\n",
    "            return i\n",
    "    \n",
    "\n",
    "# takes n x 1 vectors of prsn_ratings and matching prsn_id,\n",
    "# and an m x 1 (n >= m) vector of uniq_prsn_ids for whom we\n",
    "# want to get average X. Does not preserve order.\n",
    "# returns new uniq_lbls corresponding to order of avg_X\n",
    "# O( n log(n) )\n",
    "#\n",
    "# if laplaceSmoothing is used then we add alpha to numerator\n",
    "# and alpha*d to the denominator. If empirical distribution\n",
    "# is known you can specify empirical distribution of category\n",
    "# using mu. Mu can be a vector of length m if X is n x m\n",
    "def avgByLbl(X, lbls):    \n",
    "    # sort data for efficient averaging\n",
    "    dat = sorted(list(zip(X,lbls)), key=lambda id: id[1])\n",
    "    dat = [[i for i,j in dat], [j for i,j in dat]]\n",
    "    X = np.array(dat[0])\n",
    "    lbls = dat[1]\n",
    "    \n",
    "    uniq_lbls = np.unique(lbls)\n",
    "    uniq_lbls = sorted(uniq_lbls)\n",
    "    \n",
    "    # use an averaging algorithm optimized for sorted entries\n",
    "    # (requires sorted search targets and search list)\n",
    "    # this algorithm never traverses the same element of the\n",
    "    # search list twice, but carries the overhead of a pre-\n",
    "    # sorted target list and search list. Thankfully those\n",
    "    # can use the O(n log(n)) python sort implementation\n",
    "    idx = 0\n",
    "    \n",
    "    if len(X.shape) > 1:\n",
    "        avg_X = np.zeros((len(uniq_lbls),len(X[0])))\n",
    "        for i,this_id in enumerate(uniq_lbls):\n",
    "            idx = linearSearch(lbls, this_id, idx)\n",
    "            n = 0.0\n",
    "            while idx < len(lbls) and lbls[idx] == this_id:\n",
    "                avg_X[i] = np.sum(np.vstack([avg_X[i],X[idx]]),axis=0)\n",
    "                n += 1.0\n",
    "                idx += 1\n",
    "            avg_X[i] /= n\n",
    "    else: \n",
    "        avg_X = np.zeros(len(uniq_lbls))\n",
    "        for i,this_id in enumerate(uniq_lbls):\n",
    "            idx = linearSearch(lbls, this_id, idx)\n",
    "            n = 0.0\n",
    "            while idx < len(lbls) and lbls[idx] == this_id:\n",
    "                avg_X[i] += X[idx]\n",
    "                n += 1.0\n",
    "                idx += 1\n",
    "            avg_X[i] /= n\n",
    "            \n",
    "    return avg_X, uniq_lbls"
   ]
  },
  {
   "cell_type": "code",
   "execution_count": 698,
   "metadata": {},
   "outputs": [],
   "source": [
    "from sklearn.base import TransformerMixin, BaseEstimator\n",
    "\n",
    "\n",
    "# computes a profile for each subject specifying their likelihood of\n",
    "# submitting a particular rating. Transforms features (subject identifiers)\n",
    "# into a feature vector of log likelihoods representing the likelihood\n",
    "# of a particular rating given the identity of the subject providing the\n",
    "# rating\n",
    "class subjLogLikProfiles(TransformerMixin, BaseEstimator):\n",
    "    \n",
    "    def _sumByLbl(self, X, lbls, laplaceSmooth=None):\n",
    "        # precomute any smoothing factors (SF)\n",
    "        if laplaceSmooth is not None:\n",
    "            numSF = np.multiply(laplaceSmooth['alpha']*laplaceSmooth['d'], laplaceSmooth['mu'])\n",
    "            denSF = laplaceSmooth['alpha']*laplaceSmooth['d']\n",
    "        else:\n",
    "            numSF = 0\n",
    "            denSF = 0\n",
    "\n",
    "        # sort data for efficient averaging\n",
    "        dat = sorted(list(zip(X,lbls)), key=lambda id: id[1])\n",
    "        dat = [[i for i,j in dat], [j for i,j in dat]]\n",
    "        X = np.array(dat[0])\n",
    "        lbls = dat[1]\n",
    "\n",
    "        uniq_lbls = np.unique(lbls)\n",
    "        uniq_lbls = sorted(uniq_lbls)\n",
    "\n",
    "        # use an averaging algorithm optimized for sorted entries\n",
    "        # (requires sorted search targets and search list)\n",
    "        # this algorithm never traverses the same element of the\n",
    "        # search list twice, but carries the overhead of a pre-\n",
    "        # sorted target list and search list. Thankfully those\n",
    "        # can use the O(n log(n)) python sort implementation\n",
    "        idx = 0\n",
    "        cum_X = np.zeros((len(uniq_lbls),len(X[0])))\n",
    "        \n",
    "        for i,this_id in enumerate(uniq_lbls):\n",
    "            idx = linearSearch(lbls, this_id, idx)\n",
    "            n = 0.0\n",
    "            while idx < len(lbls) and lbls[idx] == this_id:\n",
    "                cum_X[i] = np.sum(np.vstack([cum_X[i],X[idx]]),axis=0)\n",
    "                n += 1.0\n",
    "                idx += 1\n",
    "            cum_X[i] += numSF\n",
    "            cum_X[i] *= n/(n + denSF)\n",
    "\n",
    "        return cum_X, uniq_lbls\n",
    "    \n",
    "    # asumes X is tuple (prsn_id, prsn_rating, prod_id)\n",
    "    def __init__(self, laplaceSmooth=None):\n",
    "        self.laplaceSmooth = laplaceSmooth\n",
    "    \n",
    "    def fit(self, X, y):\n",
    "        yLbl = np.unique(y)\n",
    "        \n",
    "        # mu is 'empirical' estimate it from empirical incidences\n",
    "        if self.laplaceSmooth:\n",
    "            if type(self.laplaceSmooth['mu']) is str and self.laplaceSmooth['mu'] == 'empirical':\n",
    "                mu = np.zeros(self.laplaceSmooth['d'])\n",
    "                for i in range(0, self.laplaceSmooth['d']):\n",
    "                    mu[i] = np.mean(y == yLbl[i])\n",
    "                \n",
    "                self.laplaceSmooth['mu'] = mu\n",
    "                \n",
    "            if type(self.laplaceSmooth['mu']) is str and self.laplaceSmooth['mu'] == 'uniform':\n",
    "                self.laplaceSmooth['mu'] = [1.0/self.laplaceSmooth['d']]*self.laplaceSmooth['d']\n",
    "        \n",
    "        # return frequencies of each review label for this subject\n",
    "        yExp = [y==yLbl[0]]\n",
    "        for i in range(1,len(yLbl)):\n",
    "            yExp = np.vstack([yExp, [y==yLbl[i]]])\n",
    "        yExp = np.transpose(yExp)\n",
    "                \n",
    "        subjectClassIncidence, uniq_prsn_id = self._sumByLbl(yExp, X, self.laplaceSmooth)\n",
    "        \n",
    "        classIncidence = np.sum(yExp,axis=0)\n",
    "        classIncidence = np.tile(classIncidence, len(subjectClassIncidence)\n",
    "                                ).reshape(len(subjectClassIncidence),len(classIncidence))\n",
    "        \n",
    "        logLik = np.subtract(np.log(subjectClassIncidence), np.log(classIncidence))\n",
    "        \n",
    "        self.profile = dict(zip(uniq_prsn_id, logLik))\n",
    "        \n",
    "        return self\n",
    "        \n",
    "    def transform(self, X):\n",
    "        meanValue = np.mean(np.array(list(self.profile.values())), axis=0)\n",
    "        \n",
    "        profile = [meanValue]*len(X)\n",
    "        for i, rid in enumerate(X):\n",
    "            if rid in self.profile:\n",
    "                profile[i] = self.profile[rid]\n",
    "        \n",
    "        profile = np.vstack(profile)\n",
    "        \n",
    "        return profile\n",
    "    \n",
    "# converts likelihoods to posterior probabilities using a uniform prior\n",
    "class logLik2PostProb(TransformerMixin, BaseEstimator):\n",
    "    \n",
    "    def fit(self,X,y):\n",
    "        return self\n",
    "    \n",
    "    def transform(self,X,y=None):\n",
    "        marginal = np.log(np.sum(np.exp(X), axis=1))\n",
    "        n, m = np.shape(X)\n",
    "        marginal = np.transpose(np.tile(marginal, m).reshape(m,n))\n",
    "        \n",
    "        return np.exp(np.subtract(X, marginal))"
   ]
  },
  {
   "cell_type": "code",
   "execution_count": 4,
   "metadata": {},
   "outputs": [
    {
     "name": "stdout",
     "output_type": "stream",
     "text": [
      "20.205960988998413\n"
     ]
    }
   ],
   "source": [
    "import pandas as pd\n",
    "\n",
    "t0 = time.time()\n",
    "\n",
    "prsn_asin = []\n",
    "prsn_id = []\n",
    "prsn_rating = []\n",
    "with open('../data/Sports_and_Outdoors_Ratings_training.csv') as file:\n",
    "    reader = pd.read_csv(file, delimiter=',')\n",
    "    prsn_rating = np.array([item[1] for item in reader['overall'].items()])\n",
    "    prsn_id = np.array([item[1] for item in reader['reviewerID'].items()])\n",
    "    prsn_asin = np.array([item[1] for item in reader['asin'].items()])\n",
    "\n",
    "t1 = time.time()\n",
    "print(t1-t0)"
   ]
  },
  {
   "cell_type": "code",
   "execution_count": 739,
   "metadata": {},
   "outputs": [],
   "source": [
    "X = prsn_id\n",
    "y = prsn_rating\n",
    "lbl = prsn_asin"
   ]
  },
  {
   "cell_type": "code",
   "execution_count": 642,
   "metadata": {},
   "outputs": [
    {
     "name": "stdout",
     "output_type": "stream",
     "text": [
      "366.1245129108429\n"
     ]
    }
   ],
   "source": [
    "# predict expected rating for each review\n",
    "\n",
    "t0 = time.time()\n",
    "\n",
    "# GroupKFold gives you a KFold partitioner that abides by\n",
    "# product labels so that products are only ever in a single\n",
    "# fold\n",
    "gkf = GroupKFold(n_splits=5)\n",
    "cv = gkf.split(X, y, groups=lbl)\n",
    "\n",
    "# alpha should be optimized\n",
    "getLogLikProfiles = subjLogLikProfiles(laplaceSmooth=dict(alpha=0.2, d=5, mu='empirical'))\n",
    "#getProfiles = subjProfile()\n",
    "\n",
    "# NB isn't a great classifier but it's very fast\n",
    "nb = GaussianNB()\n",
    "\n",
    "# get subject class likelihood profiles, convert to log likelihood, convert reviews\n",
    "# to products (sum log likelihoods, average ratings and threshold for awesome),\n",
    "# then classify ratings based on sum of log likelihoods (i.e. product of likelihoods)\n",
    "# GaussianNB should automatically apply empirical class priors\n",
    "reviewClf = Pipeline([('getLogLikProfiles', getLogLikProfiles), ('normalize',lik2PostProb()), ('clf', nb)])\n",
    "\n",
    "pred_review_scores = cross_val_predict(reviewClf, X, y, cv=cv, n_jobs=5)\n",
    "\n",
    "t1 = time.time()\n",
    "print(t1-t0)"
   ]
  },
  {
   "cell_type": "code",
   "execution_count": 643,
   "metadata": {},
   "outputs": [
    {
     "name": "stdout",
     "output_type": "stream",
     "text": [
      "Subject Profile Prediction\n",
      "              precision    recall  f1-score   support\n",
      "\n",
      "         1.0       0.20      0.09      0.13    566194\n",
      "         2.0       0.11      0.10      0.11    365129\n",
      "         3.0       0.15      0.14      0.14    581437\n",
      "         4.0       0.32      0.21      0.25   1275027\n",
      "         5.0       0.69      0.80      0.74   5210560\n",
      "\n",
      "    accuracy                           0.58   7998347\n",
      "   macro avg       0.29      0.27      0.27   7998347\n",
      "weighted avg       0.53      0.58      0.55   7998347\n",
      "\n",
      "Null Prediction\n",
      "              precision    recall  f1-score   support\n",
      "\n",
      "         1.0       0.07      0.03      0.04    566194\n",
      "         2.0       0.05      0.04      0.04    365129\n",
      "         3.0       0.07      0.07      0.07    581437\n",
      "         4.0       0.16      0.11      0.13   1275027\n",
      "         5.0       0.65      0.76      0.70   5210560\n",
      "\n",
      "    accuracy                           0.52   7998347\n",
      "   macro avg       0.20      0.20      0.20   7998347\n",
      "weighted avg       0.46      0.52      0.49   7998347\n",
      "\n"
     ]
    }
   ],
   "source": [
    "from sklearn.metrics import classification_report\n",
    "\n",
    "report = classification_report(y, pred_review_scores)\n",
    "print('Subject Profile Prediction')\n",
    "print(report)\n",
    "report = classification_report(y, np.random.permutation(pred_review_scores))\n",
    "print('Null Prediction')\n",
    "print(report)"
   ]
  },
  {
   "cell_type": "code",
   "execution_count": 644,
   "metadata": {},
   "outputs": [
    {
     "data": {
      "image/png": "[encoded data removed]",
      "text/plain": [
       "<Figure size 432x432 with 1 Axes>"
      ]
     },
     "metadata": {
      "needs_background": "light"
     },
     "output_type": "display_data"
    }
   ],
   "source": [
    "from matplotlib import pyplot as plt\n",
    "xx = y\n",
    "yy = pred_review_scores\n",
    "plt.rcParams.update({'font.size':18})\n",
    "plt.figure(figsize=[6,6]);\n",
    "plt.plot(xx, yy, '.');\n",
    "plt.xlabel('Obs');\n",
    "plt.ylabel('Pred');\n",
    "plt.xlim([0,6]);\n",
    "plt.ylim([0,6]);\n",
    "plt.plot(np.unique(xx), np.poly1d(np.polyfit(xx, yy, 1))(np.unique(xx)));\n",
    "plt.title('Review rating\\npredited by reviewer likelihood profile\\n');"
   ]
  },
  {
   "cell_type": "code",
   "execution_count": 742,
   "metadata": {},
   "outputs": [
    {
     "name": "stdout",
     "output_type": "stream",
     "text": [
      "583.6307857036591\n"
     ]
    }
   ],
   "source": [
    "# now let's predict awesome vs. not awesome\n",
    "# This is similar to the above, only we need posterior probabilities here\n",
    "# to compute expected ratings for thresholding purposes. This requires\n",
    "# classifier calibration and cross_val_predict with predict_proba. Otherwise\n",
    "# similar to the above\n",
    "from sklearn.calibration import CalibratedClassifierCV\n",
    "\n",
    "t0 = time.time()\n",
    "\n",
    "# GroupKFold gives you a KFold partitioner that abides by\n",
    "# product labels so that products are only ever in a single\n",
    "# fold\n",
    "gkf = GroupKFold(n_splits=5)\n",
    "cv = gkf.split(X, y, groups=lbl)\n",
    "\n",
    "# alpha should be optimized\n",
    "getLogLikProfiles = subjLogLikProfiles(laplaceSmooth=dict(alpha=0.2, d=5, mu='empirical'))\n",
    "#getProfiles = subjProfile()\n",
    "\n",
    "# NB isn't a great classifier but it's very fast\n",
    "nb = GaussianNB()\n",
    "\n",
    "calClf = CalibratedClassifierCV(nb)\n",
    "\n",
    "# get subject class likelihood profiles, convert to log likelihood, convert reviews\n",
    "# to products (sum log likelihoods, average ratings and threshold for awesome),\n",
    "# then classify ratings based on sum of log likelihoods (i.e. product of likelihoods)\n",
    "# GaussianNB should automatically apply empirical class priors\n",
    "reviewClf = Pipeline([('getLogLikProfiles', getLogLikProfiles), ('normalize',lik2PostProb()), ('clf', calClf)])\n",
    "\n",
    "pred_review_rating = cross_val_predict(reviewClf, X, y, cv=cv, method='predict_proba', n_jobs=5)\n",
    "\n",
    "t1 = time.time()\n",
    "print(t1-t0)"
   ]
  },
  {
   "cell_type": "code",
   "execution_count": 777,
   "metadata": {},
   "outputs": [],
   "source": [
    "# computes expected rating based on probability of each class label\n",
    "def expRating(prob):\n",
    "    n,m = np.shape(prob)\n",
    "    values = [1,2,3,4,5]\n",
    "    values = np.tile(values,n).reshape(n,m)\n",
    "    exp_val = np.sum(np.multiply(prob, values), axis=1)\n",
    "    return exp_val"
   ]
  },
  {
   "cell_type": "code",
   "execution_count": 788,
   "metadata": {},
   "outputs": [],
   "source": [
    "pred_review_rating = expRating(prob_review_rating)\n",
    "pred_awesome = pred_review_rating > 4.5\n",
    "obs_awesome = y > 4.5"
   ]
  },
  {
   "cell_type": "code",
   "execution_count": 779,
   "metadata": {},
   "outputs": [
    {
     "name": "stdout",
     "output_type": "stream",
     "text": [
      "Awesome Review Predicted by Subject Profile\n",
      "              precision    recall  f1-score   support\n",
      "\n",
      "       False       0.47      0.32      0.38   2787787\n",
      "        True       0.69      0.81      0.74   5210560\n",
      "\n",
      "    accuracy                           0.64   7998347\n",
      "   macro avg       0.58      0.57      0.56   7998347\n",
      "weighted avg       0.62      0.64      0.62   7998347\n",
      "\n",
      "Null Prediction\n",
      "              precision    recall  f1-score   support\n",
      "\n",
      "       False       0.35      0.24      0.28   2787787\n",
      "        True       0.65      0.76      0.70   5210560\n",
      "\n",
      "    accuracy                           0.58   7998347\n",
      "   macro avg       0.50      0.50      0.49   7998347\n",
      "weighted avg       0.55      0.58      0.56   7998347\n",
      "\n"
     ]
    }
   ],
   "source": [
    "from sklearn.metrics import classification_report\n",
    "\n",
    "report = classification_report(obs_awesome, pred_awesome)\n",
    "print('Awesome Review Predicted by Subject Profile')\n",
    "print(report)\n",
    "report = classification_report(obs_awesome, np.random.permutation(pred_awesome))\n",
    "print('Null Prediction')\n",
    "print(report)"
   ]
  },
  {
   "cell_type": "code",
   "execution_count": 789,
   "metadata": {},
   "outputs": [
    {
     "data": {
      "image/png": "[encoded data removed]",
      "text/plain": [
       "<Figure size 432x432 with 1 Axes>"
      ]
     },
     "metadata": {
      "needs_background": "light"
     },
     "output_type": "display_data"
    }
   ],
   "source": [
    "from sklearn.metrics import roc_curve, auc\n",
    "\n",
    "review_fpr, review_tpr, _ = roc_curve(obs_awesome, pred_review_rating)\n",
    "review_auc = auc(review_fpr, review_tpr)\n",
    "\n",
    "xx = review_fpr\n",
    "yy = review_tpr\n",
    "plt.figure(figsize=[6,6])\n",
    "plt.plot(xx, yy, label='ROC curve (AUC = %0.2f)' % review_auc, color='red')\n",
    "plt.plot([0,1],[0,1],color='gray')\n",
    "plt.xlabel('FPR')\n",
    "plt.ylabel('TPR')\n",
    "plt.title('Review predicted as awesome');\n",
    "plt.legend(loc='lower right')\n",
    "plt.show()"
   ]
  },
  {
   "cell_type": "code",
   "execution_count": 781,
   "metadata": {},
   "outputs": [],
   "source": [
    "# this is both the expected rating given the average \n",
    "# review probabilities, and the average of the review's\n",
    "# expected ratings\n",
    "prob_prod_rating, new_lbl = avgByLbl(prob_review_rating, lbl)\n",
    "pred_prod_rating = expRating(prob_prod_rating)\n",
    "pred_prod_awesome = pred_prod_rating > 4.5\n",
    "\n",
    "obs_rating, new_lbl = avgByLbl(y, lbl)\n",
    "obs_awesome = obs_rating > 4.5"
   ]
  },
  {
   "cell_type": "code",
   "execution_count": 785,
   "metadata": {},
   "outputs": [
    {
     "name": "stdout",
     "output_type": "stream",
     "text": [
      "Awesome Product Prediction by Subject Profile\n",
      "              precision    recall  f1-score   support\n",
      "\n",
      "       False       0.68      0.34      0.46     55197\n",
      "        True       0.35      0.69      0.47     28552\n",
      "\n",
      "    accuracy                           0.46     83749\n",
      "   macro avg       0.52      0.52      0.46     83749\n",
      "weighted avg       0.57      0.46      0.46     83749\n",
      "\n",
      "Null Prediction\n",
      "              precision    recall  f1-score   support\n",
      "\n",
      "       False       0.66      0.33      0.44     55197\n",
      "        True       0.34      0.67      0.45     28552\n",
      "\n",
      "    accuracy                           0.45     83749\n",
      "   macro avg       0.50      0.50      0.45     83749\n",
      "weighted avg       0.55      0.45      0.44     83749\n",
      "\n"
     ]
    }
   ],
   "source": [
    "from sklearn.metrics import classification_report\n",
    "\n",
    "report = classification_report(obs_awesome, pred_prod_awesome)\n",
    "print('Awesome Product Prediction by Subject Profile')\n",
    "print(report)\n",
    "report = classification_report(obs_awesome, np.random.permutation(pred_prod_awesome))\n",
    "print('Null Prediction')\n",
    "print(report)"
   ]
  },
  {
   "cell_type": "code",
   "execution_count": 787,
   "metadata": {},
   "outputs": [
    {
     "data": {
      "image/png": "[encoded data removed]",
      "text/plain": [
       "<Figure size 432x432 with 1 Axes>"
      ]
     },
     "metadata": {
      "needs_background": "light"
     },
     "output_type": "display_data"
    }
   ],
   "source": [
    "from sklearn.metrics import roc_curve, auc\n",
    "\n",
    "prod_fpr, prod_tpr, _ = roc_curve(obs_awesome, pred_prod_rating)\n",
    "prod_auc = auc(prod_fpr, prod_tpr)\n",
    "\n",
    "xx = prod_fpr\n",
    "yy = prod_tpr\n",
    "plt.figure(figsize=[6,6])\n",
    "plt.plot(xx, yy, label='ROC curve (AUC = %0.2f)' % prod_auc, color='red')\n",
    "plt.plot([0,1],[0,1],color='gray')\n",
    "plt.xlabel('FPR')\n",
    "plt.ylabel('TPR')\n",
    "plt.title('Review product as awesome');\n",
    "plt.legend(loc='lower right')\n",
    "plt.show()"
   ]
  }
 ],
 "metadata": {
  "kernelspec": {
   "display_name": "Python 3",
   "language": "python",
   "name": "python3"
  },
  "language_info": {
   "codemirror_mode": {
    "name": "ipython",
    "version": 3
   },
   "file_extension": ".py",
   "mimetype": "text/x-python",
   "name": "python",
   "nbconvert_exporter": "python",
   "pygments_lexer": "ipython3",
   "version": "3.8.6"
  }
 },
 "nbformat": 4,
 "nbformat_minor": 4
}
