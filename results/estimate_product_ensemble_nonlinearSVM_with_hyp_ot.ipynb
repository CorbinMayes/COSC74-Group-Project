{
 "cells": [
  {
   "cell_type": "markdown",
   "metadata": {},
   "source": [
    "This script estimates the performance of naive bayes classification in a document-topic model's feature space"
   ]
  },
  {
   "cell_type": "code",
   "execution_count": 1,
   "metadata": {},
   "outputs": [],
   "source": [
    "%load_ext autoreload\n",
    "%autoreload 2\n",
    "import time\n",
    "start_time = time.time()\n",
    "\n",
    "import json\n",
    "\n",
    "import nltk\n",
    "from nltk.tokenize import RegexpTokenizer\n",
    "from nltk.corpus import stopwords\n",
    "from nltk.stem.porter import PorterStemmer\n",
    "\n",
    "import numpy as np\n",
    "\n",
    "import sys\n",
    "sys.path.append(\"../libraries/\")\n",
    "from selector import split_data\n",
    "from semanticClassifiers import docTopTransformer2, doc2Bow"
   ]
  },
  {
   "cell_type": "code",
   "execution_count": 2,
   "metadata": {},
   "outputs": [],
   "source": [
    "# takes list of text fields (e.g. summary or reviewText fields) and\n",
    "# tokenizes, removes stop words and stems. Returns result as array of \n",
    "# lists, one list per review\n",
    "def preprocess_data(doc_set):    \n",
    "    # initialize regex tokenizer\n",
    "    tokenizer = RegexpTokenizer(r'\\w+')\n",
    "    # create English stop words list\n",
    "    en_stop = set(stopwords.words('english'))\n",
    "    # Create p_stemmer of class PorterStemmer\n",
    "    p_stemmer = PorterStemmer()\n",
    "    # list for tokenized documents in loop\n",
    "    texts = []\n",
    "    # loop through document list\n",
    "    for i in doc_set:\n",
    "        if not i:\n",
    "            i = ' '\n",
    "        # clean and tokenize document string\n",
    "        raw = i.lower()\n",
    "        tokens = tokenizer.tokenize(raw)\n",
    "        tokens.append('null__') # add a bias term, will work as a kind of prior, important for empty reviews\n",
    "        # remove stop words from tokens\n",
    "        stopped_tokens = [i for i in tokens if not i in en_stop]\n",
    "        # stem tokens\n",
    "        stemmed_tokens = [p_stemmer.stem(i) for i in stopped_tokens]\n",
    "        # add tokens to list\n",
    "        texts.append(stemmed_tokens)\n",
    "    return texts\n",
    "\n",
    "# takes an array of lists as input, product labels, uniq_labels, and ratings,\n",
    "# and merges lists with matching labels among labels uniq_labels, averages\n",
    "# reviews belonging to the same, returns merged lists, and averaged ratings\n",
    "# uniq_labels should typically be np.unique(product labels), however \n",
    "# the option of specifying a subset is useful for parallelization to allow\n",
    "# different subsets to be processed by different engines\n",
    "def combine_reviews(text, asins, ratings):\n",
    "        products = [asins[0]]\n",
    "        combined_text = [text[0]]\n",
    "        average_rating = []\n",
    "        total_rating = ratings[0]\n",
    "        count = 1\n",
    "\n",
    "        #combine all the summaries into a single text and avg the review ratings for each product\n",
    "        for i in range(1, len(asins)):\n",
    "            last_element_index = len(products) - 1\n",
    "            if(asins[i] == products[last_element_index]):\n",
    "                combined_text[last_element_index] = combined_text[last_element_index] + text[i]\n",
    "                total_rating += ratings[i]\n",
    "                count += 1\n",
    "            else:\n",
    "                average_rating.append(total_rating/count)\n",
    "                products.append(asins[i])\n",
    "                combined_text.append(text[i])\n",
    "                total_rating = ratings[i]\n",
    "                count = 1\n",
    "        average_rating.append(total_rating/count)\n",
    "        \n",
    "        return (combined_text, products, average_rating)"
   ]
  },
  {
   "cell_type": "code",
   "execution_count": 22,
   "metadata": {},
   "outputs": [
    {
     "data": {
      "text/plain": [
       "351.8517847061157"
      ]
     },
     "execution_count": 22,
     "metadata": {},
     "output_type": "execute_result"
    }
   ],
   "source": [
    "# Read in testing data for 80/20 split\n",
    "# we won't use val_dat at all\n",
    "t1 = time.time()\n",
    "json_dat, val_dat = split_data('../data/Sports_and_Outdoors_Reviews_training.json', 80)\n",
    "t2 = time.time()\n",
    "t2 - t1"
   ]
  },
  {
   "cell_type": "code",
   "execution_count": 41,
   "metadata": {},
   "outputs": [],
   "source": [
    "# Only sample of data\n",
    "samples = json_dat[:10000]\n",
    "#sort test data by asin\n",
    "samples = sorted(samples, key=lambda k: k['asin'])"
   ]
  },
  {
   "cell_type": "code",
   "execution_count": 42,
   "metadata": {},
   "outputs": [],
   "source": [
    "# create a list, doc_list, with one review per elem\n",
    "review = []\n",
    "summary = []\n",
    "rating = []\n",
    "prod_id = []\n",
    "for i in range(0,len(samples)):\n",
    "    rating.append(samples[i].get('overall'))\n",
    "    summary.append(samples[i].get('summary'))\n",
    "    review.append(samples[i].get('reviewText'))\n",
    "    prod_id.append(samples[i].get('asin'))"
   ]
  },
  {
   "cell_type": "code",
   "execution_count": 43,
   "metadata": {},
   "outputs": [
    {
     "data": {
      "text/plain": [
       "(10000, 10000, 10000, 10000)"
      ]
     },
     "execution_count": 43,
     "metadata": {},
     "output_type": "execute_result"
    }
   ],
   "source": [
    "len(review), len(summary), len(rating), len(prod_id)"
   ]
  },
  {
   "cell_type": "code",
   "execution_count": 44,
   "metadata": {},
   "outputs": [
    {
     "name": "stdout",
     "output_type": "stream",
     "text": [
      "1.0140130519866943\n"
     ]
    }
   ],
   "source": [
    "# takes ~96 CPU minutes\n",
    "\n",
    "# this cell runs things in parallel. make sure to start an \n",
    "# ipython cluster from the notebook dashboard's IPython Cluster\n",
    "# tab before running\n",
    "import ipyparallel as ipp\n",
    "\n",
    "rc = ipp.Client()\n",
    "dview = rc[:]\n",
    "dview.execute('from nltk.tokenize import RegexpTokenizer;' +\n",
    "              'from nltk.corpus import stopwords; ' + \n",
    "              'from nltk.stem.porter import PorterStemmer;' +\n",
    "              'import numpy as np;')\n",
    "\n",
    "t0 = time.time()\n",
    "\n",
    "\n",
    "# clean text\n",
    "dview.push(dict(preprocess_data=preprocess_data))\n",
    "dview.scatter('summary', summary) # partitions data\n",
    "\n",
    "%px cleaned_reviews = preprocess_data(summary)\n",
    "cleaned_reviews = dview.gather('cleaned_reviews').get()\n",
    "\n",
    "# combine text\n",
    "total_text, uniq_prod_id, avg_ratings = combine_reviews(cleaned_reviews, prod_id, rating)\n",
    "\n",
    "\n",
    "t1 = time.time()\n",
    "\n",
    "print(t1-t0)"
   ]
  },
  {
   "cell_type": "code",
   "execution_count": 174,
   "metadata": {},
   "outputs": [],
   "source": [
    "#parallel_avg_ratings = avg_ratings\n",
    "#parallel_total_text = total_text"
   ]
  },
  {
   "cell_type": "code",
   "execution_count": 45,
   "metadata": {
    "scrolled": true
   },
   "outputs": [
    {
     "ename": "TypeError",
     "evalue": "combine_reviews() takes 3 positional arguments but 4 were given",
     "output_type": "error",
     "traceback": [
      "\u001b[1;31m---------------------------------------------------------------------------\u001b[0m",
      "\u001b[1;31mTypeError\u001b[0m                                 Traceback (most recent call last)",
      "\u001b[1;32m<ipython-input-45-0ad781cd92d6>\u001b[0m in \u001b[0;36m<module>\u001b[1;34m\u001b[0m\n\u001b[0;32m      3\u001b[0m \u001b[0mcleaned_reviews\u001b[0m \u001b[1;33m=\u001b[0m \u001b[0mpreprocess_data\u001b[0m\u001b[1;33m(\u001b[0m\u001b[0msummary\u001b[0m\u001b[1;33m)\u001b[0m\u001b[1;33m\u001b[0m\u001b[0m\n\u001b[0;32m      4\u001b[0m \u001b[0muniq_prod_id\u001b[0m \u001b[1;33m=\u001b[0m \u001b[0mnp\u001b[0m\u001b[1;33m.\u001b[0m\u001b[0munique\u001b[0m\u001b[1;33m(\u001b[0m\u001b[0mprod_id\u001b[0m\u001b[1;33m)\u001b[0m\u001b[1;33m\u001b[0m\u001b[0m\n\u001b[1;32m----> 5\u001b[1;33m \u001b[0mtotal_text\u001b[0m\u001b[1;33m,\u001b[0m \u001b[0mavg_ratings\u001b[0m \u001b[1;33m=\u001b[0m \u001b[0mcombine_reviews\u001b[0m\u001b[1;33m(\u001b[0m\u001b[0mcleaned_reviews\u001b[0m\u001b[1;33m,\u001b[0m \u001b[0mprod_id\u001b[0m\u001b[1;33m,\u001b[0m \u001b[0muniq_prod_id\u001b[0m\u001b[1;33m,\u001b[0m \u001b[0mrating\u001b[0m\u001b[1;33m)\u001b[0m\u001b[1;33m\u001b[0m\u001b[0m\n\u001b[0m",
      "\u001b[1;31mTypeError\u001b[0m: combine_reviews() takes 3 positional arguments but 4 were given"
     ]
    }
   ],
   "source": [
    "# uncomment this box to run serially\n",
    "\n",
    "cleaned_reviews = preprocess_data(summary)\n",
    "uniq_prod_id = np.unique(prod_id)\n",
    "total_text, avg_ratings = combine_reviews(cleaned_reviews, prod_id, uniq_prod_id, rating)"
   ]
  },
  {
   "cell_type": "code",
   "execution_count": null,
   "metadata": {},
   "outputs": [],
   "source": [
    "#print(parallel_avg_ratings == avg_ratings)\n",
    "#all([all(parallel_total_text[i] == text) for i, text in enumerate(total_text)])"
   ]
  },
  {
   "cell_type": "code",
   "execution_count": 14,
   "metadata": {},
   "outputs": [
    {
     "data": {
      "text/plain": [
       "274184"
      ]
     },
     "execution_count": 14,
     "metadata": {},
     "output_type": "execute_result"
    }
   ],
   "source": [
    "import gc\n",
    "\n",
    "del summary\n",
    "del review\n",
    "del json_dat\n",
    "del val_dat\n",
    "\n",
    "gc.collect()"
   ]
  },
  {
   "cell_type": "code",
   "execution_count": 46,
   "metadata": {},
   "outputs": [],
   "source": [
    "# vectorize training data\n",
    "train_lbls = np.array(avg_ratings) >= 4.5\n",
    "train_text = total_text"
   ]
  },
  {
   "cell_type": "code",
   "execution_count": 47,
   "metadata": {},
   "outputs": [
    {
     "data": {
      "text/plain": [
       "(346, 346)"
      ]
     },
     "execution_count": 47,
     "metadata": {},
     "output_type": "execute_result"
    }
   ],
   "source": [
    "len(train_text), len(train_lbls)"
   ]
  },
  {
   "cell_type": "code",
   "execution_count": 53,
   "metadata": {
    "scrolled": false
   },
   "outputs": [
    {
     "name": "stdout",
     "output_type": "stream",
     "text": [
      "346 346\n",
      "23.507967233657837\n"
     ]
    }
   ],
   "source": [
    "# estimate classifier accuracy\n",
    "from sklearn.model_selection import cross_val_predict, KFold, GridSearchCV\n",
    "from sklearn.svm import LinearSVC, SVC\n",
    "from sklearn.ensemble import BaggingClassifier\n",
    "from sklearn.pipeline import Pipeline\n",
    "from sklearn.preprocessing import Normalizer, FunctionTransformer\n",
    "\n",
    "# GroupKFold gives you a KFold partitioner that abides by\n",
    "# product labels so that products are only ever in a single\n",
    "# fold\n",
    "kf = KFold(n_splits=10)\n",
    "cv = kf.split(train_text, train_lbls)\n",
    "\n",
    "time0 = time.time()\n",
    "\n",
    "# initialize a transformer mapping from bow to latent semantic features\n",
    "doc2Top = docTopTransformer2()\n",
    "\n",
    "# initialize a normalization transformer\n",
    "norm_transformer = Normalizer()\n",
    "\n",
    "# pick a classifier\n",
    "baseClf = SVC()\n",
    "\n",
    "params = [{'kernel': ['rbf'], 'C': [1, 10, 100, 1000]},\n",
    "            {'kernel': ['poly'], 'degree': [2,3,4]}]\n",
    "\n",
    "#estimators = [('projection', doc2Top), ('baseClf', baseClf)]\n",
    "#semClf = Pipeline(estimators)\n",
    "\n",
    "grid_LSVC = GridSearchCV(estimator = baseClf, param_grid = params, scoring = 'f1_macro', \n",
    "                       cv = 10, verbose = 1, n_jobs = 1)\n",
    "\n",
    "n_estimators=10\n",
    "clf = BaggingClassifier(base_estimator=grid_LSVC, \n",
    "                        bootstrap=False, max_samples = 1.0/n_estimators, n_estimators=n_estimators,\n",
    "                        n_jobs=1)\n",
    "\n",
    "# create a pipeline that transforms data to semantic space, \n",
    "# and then classifies them by averaging over n_estimators of \n",
    "# type baseClf\n",
    "#\n",
    "# Note, you could bag over n semantic models too by creating\n",
    "# a pipeline using bow2Top and baseClf, and then passing that\n",
    "# in as th base_estimator argument of a BaggingClassifier\n",
    "# instance. If you think bagging classification of reviews will\n",
    "# lead to better classification performance for theoretical\n",
    "# reasons, this would be the way to go, however the purpose\n",
    "# of bagging here is for to avoid a bypass the slow SVM fitting\n",
    "# procedure\n",
    "estimators = [('projection', doc2Top), ('normalization', norm_transformer), ('clf', clf)]\n",
    "semBagClf = Pipeline(estimators)\n",
    "\n",
    "# cross validate over the pipeline using group k-fold CV\n",
    "print(len(train_lbls), len(train_text))\n",
    "pred_lbls = cross_val_predict(semBagClf, train_text, train_lbls, cv=cv, n_jobs=4)\n",
    "time1 = time.time()\n",
    "\n",
    "print(time1-time0)"
   ]
  },
  {
   "cell_type": "code",
   "execution_count": 54,
   "metadata": {},
   "outputs": [
    {
     "name": "stdout",
     "output_type": "stream",
     "text": [
      "True recall is sensitivity, false recall is specificity\n",
      "              precision    recall  f1-score   support\n",
      "\n",
      "       False       0.60      0.78      0.68       174\n",
      "        True       0.69      0.48      0.57       172\n",
      "\n",
      "    accuracy                           0.63       346\n",
      "   macro avg       0.65      0.63      0.62       346\n",
      "weighted avg       0.64      0.63      0.62       346\n",
      "\n",
      "Accuracy: 0.633\n"
     ]
    }
   ],
   "source": [
    "from sklearn.metrics import classification_report\n",
    "\n",
    "report = classification_report(train_lbls, pred_lbls)\n",
    "print('True recall is sensitivity, false recall is specificity')\n",
    "print(report)\n",
    "\n",
    "# this is not exactly the same as the average of each CV folds accuracy, \n",
    "# but it's close and much faster to compute\n",
    "acc = 1-np.mean(pred_lbls != train_lbls)\n",
    "print(\"Accuracy: %0.3f\" % acc)"
   ]
  },
  {
   "cell_type": "code",
   "execution_count": 50,
   "metadata": {},
   "outputs": [],
   "source": [
    "#clf.n_jobs = 5\n",
    "clf = BaggingClassifier(base_estimator=grid_LSVC, \n",
    "                        bootstrap=False, max_samples = 1.0/n_estimators, n_estimators=n_estimators,\n",
    "                        n_jobs=5)\n",
    "\n",
    "estimators = [('projection', doc2Top), ('normalization', norm_transformer), ('clf', clf)]\n",
    "semBagClf = Pipeline(estimators)\n",
    "\n",
    "semBagClf = semBagClf.fit(train_text,train_lbls)"
   ]
  },
  {
   "cell_type": "code",
   "execution_count": null,
   "metadata": {},
   "outputs": [],
   "source": [
    "# save fitted classifier\n",
    "#\n",
    "# classifier will project tokenized test data to the pretrained \n",
    "# document-topic embedding, apply two SVM classifiers, which may\n",
    "# be linear, polynomial or RBF kernel classifiers, with various\n",
    "# hyperparameters, average the results, and give you the \n",
    "# resulting prediction. The selected kernels and hyperparameters\n",
    "# are chosen to optimize f1 score\n",
    "#import pickle\n",
    "#with open('linearSVM.clf',mode='wb') as f:\n",
    "#    pickle.dump(semClf,f)"
   ]
  },
  {
   "cell_type": "code",
   "execution_count": 51,
   "metadata": {},
   "outputs": [
    {
     "data": {
      "text/plain": [
       "(array([  2.,   0.,   2.,   2.,  13.,  11.,  39.,  77., 111.,  89.]),\n",
       " array([2. , 2.3, 2.6, 2.9, 3.2, 3.5, 3.8, 4.1, 4.4, 4.7, 5. ]),\n",
       " <BarContainer object of 10 artists>)"
      ]
     },
     "execution_count": 51,
     "metadata": {},
     "output_type": "execute_result"
    },
    {
     "data": {
      "image/png": "[encoded data removed]",
      "text/plain": [
       "<Figure size 432x288 with 1 Axes>"
      ]
     },
     "metadata": {
      "needs_background": "light"
     },
     "output_type": "display_data"
    }
   ],
   "source": [
    "from matplotlib import pyplot as plt\n",
    "plt.hist(avg_ratings)"
   ]
  }
 ],
 "metadata": {
  "kernelspec": {
   "display_name": "Python 3",
   "language": "python",
   "name": "python3"
  },
  "language_info": {
   "codemirror_mode": {
    "name": "ipython",
    "version": 3
   },
   "file_extension": ".py",
   "mimetype": "text/x-python",
   "name": "python",
   "nbconvert_exporter": "python",
   "pygments_lexer": "ipython3",
   "version": "3.6.5"
  }
 },
 "nbformat": 4,
 "nbformat_minor": 4
}
