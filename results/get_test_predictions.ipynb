{
 "cells": [
  {
   "cell_type": "code",
   "execution_count": 1,
   "metadata": {},
   "outputs": [],
   "source": [
    "import time\n",
    "start_time = time.time()\n",
    "\n",
    "import json\n",
    "\n",
    "import nltk\n",
    "from nltk.tokenize import RegexpTokenizer\n",
    "from nltk.corpus import stopwords\n",
    "from nltk.stem.porter import PorterStemmer\n",
    "\n",
    "import numpy as np\n",
    "\n",
    "import sys\n",
    "sys.path.append(\"../libraries/\")\n",
    "from selector import split_data"
   ]
  },
  {
   "cell_type": "code",
   "execution_count": 2,
   "metadata": {},
   "outputs": [],
   "source": [
    "with open('../data/Sports_and_Outdoors_Reviews_training.json', 'r') as fp:\n",
    "    json_dat = [json.loads(x) for x in fp.readlines()]\n",
    "\n",
    "json_dat = json_dat[0:16000] # use this for prototyping on smaller subsets"
   ]
  },
  {
   "cell_type": "code",
   "execution_count": 3,
   "metadata": {},
   "outputs": [],
   "source": [
    "# create a list, doc_list, with one review per elem\n",
    "doc_list = []\n",
    "rating = []\n",
    "prod_id = []\n",
    "for i in range(0,len(json_dat)):\n",
    "    doc_list.append(json_dat[i].get('reviewText'))\n",
    "    rating.append(json_dat[i].get('overall'))\n",
    "    prod_id.append(json_dat[i].get('asin'))"
   ]
  },
  {
   "cell_type": "code",
   "execution_count": 4,
   "metadata": {},
   "outputs": [],
   "source": [
    "def preprocess_data(doc_set):\n",
    "    \"\"\"\n",
    "    Input  : docuemnt list\n",
    "    Purpose: preprocess text (tokenize, removing stopwords, and stemming)\n",
    "    Output : preprocessed text\n",
    "    \"\"\"\n",
    "    # initialize regex tokenizer\n",
    "    tokenizer = RegexpTokenizer(r'\\w+')\n",
    "    # create English stop words list\n",
    "    en_stop = set(stopwords.words('english'))\n",
    "    # Create p_stemmer of class PorterStemmer\n",
    "    p_stemmer = PorterStemmer()\n",
    "    # list for tokenized documents in loop\n",
    "    texts = []\n",
    "    # loop through document list\n",
    "    for i in doc_set:\n",
    "        if not i:\n",
    "            i = ' '\n",
    "        # clean and tokenize document string\n",
    "        raw = i.lower()\n",
    "        tokens = tokenizer.tokenize(raw)\n",
    "        tokens.append('null__') # add a bias term, will work as a kind of prior, important for empty reviews\n",
    "        # remove stop words from tokens\n",
    "        stopped_tokens = [i for i in tokens if not i in en_stop]\n",
    "        # stem tokens\n",
    "        stemmed_tokens = [p_stemmer.stem(i) for i in stopped_tokens]\n",
    "        # add tokens to list\n",
    "        texts.append(stemmed_tokens)\n",
    "    return texts"
   ]
  },
  {
   "cell_type": "code",
   "execution_count": 5,
   "metadata": {},
   "outputs": [],
   "source": [
    "train_text=preprocess_data(doc_list)"
   ]
  },
  {
   "cell_type": "code",
   "execution_count": 6,
   "metadata": {},
   "outputs": [],
   "source": [
    "# this is the code we used for Deliverable #3, however there are\n",
    "# better ways to implement what this does using pipelines and\n",
    "# sklearn transformers. I've updated the other scripts to \n",
    "# use that approach, but am leaving this here as a record\n",
    "\n",
    "from sklearn.utils.validation import check_is_fitted\n",
    "\n",
    "from gensim.models import LsiModel as lsi\n",
    "from gensim.corpora import Dictionary\n",
    "from gensim import matutils\n",
    "\n",
    "from sklearn.naive_bayes import GaussianNB\n",
    "from sklearn.svm import SVC\n",
    "\n",
    "class semantic_SVM(SVC):\n",
    "    semSpace=[]\n",
    "    this_dict = []\n",
    "    \n",
    "    # reviews should be a list of reviews, where each review is itself a 'cleaned'\n",
    "    # list of words (lematized, no stop words, etc). train_lbls should be a\n",
    "    # boolean array\n",
    "    def fit(self, train_reviews, train_lbls):\n",
    "        # train a document-topic model        \n",
    "        self.this_dict = Dictionary(train_reviews)\n",
    "\n",
    "        # transform corpus (train) into a 2d array word counts (a 'bag of words')\n",
    "        bow_corpus = [self.this_dict.doc2bow(text) for text in train_reviews]\n",
    "\n",
    "        # construct a semantic model based on document-topic similarity (15-20 min for 1500k reviews?)\n",
    "        self.semSpace = lsi(bow_corpus, id2word=self.this_dict, num_topics=300, chunksize=100000, distributed=False)\n",
    "\n",
    "        # Apply the semantic model to the training set bag of words (fast)\n",
    "        feat_train = self.semSpace[bow_corpus]\n",
    "\n",
    "        # convert from TransformedCorpus datatype to numpy doc x topic array (medium speed, needs more benchmarking)\n",
    "        train_topics_csr = matutils.corpus2csc(feat_train)\n",
    "        feat_train_np = train_topics_csr.T.toarray()\n",
    "        \n",
    "        # fit naive bayes model to training features and apply it to test features\n",
    "        return super().fit(feat_train_np, train_lbls)\n",
    "    \n",
    "    def predict(self, test_reviews):   \n",
    "        check_is_fitted(self)\n",
    "        \n",
    "        # Apply semantic model to test set\n",
    "        bow_corpus_test = [self.this_dict.doc2bow(text) for text in test_reviews]\n",
    "        feat_test = self.semSpace[bow_corpus_test]\n",
    "        test_topics_csr = matutils.corpus2csc(feat_test)\n",
    "        feat_test_np = test_topics_csr.T.toarray()\n",
    "\n",
    "        return super().predict(feat_test_np)"
   ]
  },
  {
   "cell_type": "code",
   "execution_count": 7,
   "metadata": {},
   "outputs": [],
   "source": [
    "train_lbls = np.array(rating) >= 4.5\n",
    "\n",
    "clf = semantic_SVM()\n",
    "clf = clf.fit(train_text, train_lbls)"
   ]
  },
  {
   "cell_type": "code",
   "execution_count": 8,
   "metadata": {},
   "outputs": [],
   "source": [
    "from sklearn.model_selection import cross_val_predict, GroupKFold\n",
    "\n",
    "gkf = GroupKFold(n_splits=10)\n",
    "cv = gkf.split(train_text, train_lbls, groups=prod_id)\n",
    "\n",
    "predict = cross_val_predict(clf, train_text, train_lbls, cv=cv, n_jobs=10)"
   ]
  },
  {
   "cell_type": "code",
   "execution_count": 9,
   "metadata": {},
   "outputs": [
    {
     "name": "stdout",
     "output_type": "stream",
     "text": [
      "Summary Text Prediction\n",
      "              precision    recall  f1-score   support\n",
      "\n",
      "       False       0.71      0.38      0.50      5313\n",
      "        True       0.75      0.92      0.83     10687\n",
      "\n",
      "    accuracy                           0.74     16000\n",
      "   macro avg       0.73      0.65      0.66     16000\n",
      "weighted avg       0.74      0.74      0.72     16000\n",
      "\n"
     ]
    }
   ],
   "source": [
    "from sklearn.metrics import classification_report\n",
    "\n",
    "report = classification_report(train_lbls, predict)\n",
    "print('Summary Text Prediction')\n",
    "print(report)"
   ]
  },
  {
   "cell_type": "code",
   "execution_count": 14,
   "metadata": {},
   "outputs": [],
   "source": [
    "# import and prepare test data\n",
    "with open('../data/Sports_and_Outdoors_Reviews_test.json', 'r') as fp:\n",
    "    json_dat = [json.loads(x) for x in fp.readlines()]\n",
    "\n",
    "json_dat = json_dat\n",
    "    \n",
    "doc_list = []\n",
    "asin = []\n",
    "test_reviewer_id = []\n",
    "test_unixreviewtime = []\n",
    "for i in range(0,len(json_dat)):\n",
    "    doc_list.append(json_dat[i].get('reviewText')\n",
    "    asin.append(json_dat[i].get('asin'))\n",
    "    test_reviewer_id.append(json_dat[i].get('reviewerID'))\n",
    "    test_unixreviewtime.append(json_dat[i].get('unixReviewTime'))\n",
    "\n",
    "\n",
    "test_text=preprocess_data(doc_list)"
   ]
  },
  {
   "cell_type": "code",
   "execution_count": 15,
   "metadata": {},
   "outputs": [],
   "source": [
    "# get model predictions for test data\n",
    "pred_lbls = clf.predict(test_text)"
   ]
  },
  {
   "cell_type": "code",
   "execution_count": 16,
   "metadata": {},
   "outputs": [],
   "source": [
    "dat = np.column_stack((asin, test_reviewer_id, pred_lbls.astype(int), test_unixreviewtime))"
   ]
  },
  {
   "cell_type": "code",
   "execution_count": 17,
   "metadata": {},
   "outputs": [],
   "source": [
    "np.savetxt(\"Sports_and_Outdoors_Ratings_test.csv\", dat, delimiter=\",\", fmt=['%s','%s', '%s', '%s'], \n",
    "           header='asin,reviewerID,awesomeReview,unixReviewTime')"
   ]
  }
 ],
 "metadata": {
  "kernelspec": {
   "display_name": "Python 3",
   "language": "python",
   "name": "python3"
  },
  "language_info": {
   "codemirror_mode": {
    "name": "ipython",
    "version": 3
   },
   "file_extension": ".py",
   "mimetype": "text/x-python",
   "name": "python",
   "nbconvert_exporter": "python",
   "pygments_lexer": "ipython3",
   "version": "3.8.6"
  }
 },
 "nbformat": 4,
 "nbformat_minor": 4
}
