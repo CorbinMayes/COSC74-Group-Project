{
 "cells": [
  {
   "cell_type": "markdown",
   "metadata": {},
   "source": [
    "This script estimates the performance of linear SVM classification in a document-topic model's feature space"
   ]
  },
  {
   "cell_type": "code",
   "execution_count": 20,
   "metadata": {},
   "outputs": [],
   "source": [
    "import time\n",
    "start_time = time.time()\n",
    "\n",
    "import json\n",
    "\n",
    "import nltk\n",
    "from nltk.tokenize import RegexpTokenizer\n",
    "from nltk.corpus import stopwords\n",
    "from nltk.stem.porter import PorterStemmer\n",
    "\n",
    "import numpy as np\n",
    "\n",
    "import sys\n",
    "sys.path.append(\"../libraries/\")\n",
    "from selector import split_data\n",
    "from semanticClassifiers import docTopTransformer, docTopTransformer2, doc2Bow"
   ]
  },
  {
   "cell_type": "code",
   "execution_count": 21,
   "metadata": {},
   "outputs": [],
   "source": [
    "# Read in testing data for 80/20 split\n",
    "# we won't use val_dat at all\n",
    "json_dat, val_dat = split_data('../data/Sports_and_Outdoors_Reviews_training.json', 80)\n",
    "json_dat = json_dat[0:32000] # use this for prototyping on smaller subsets\n",
    "del val_dat"
   ]
  },
  {
   "cell_type": "code",
   "execution_count": 22,
   "metadata": {},
   "outputs": [],
   "source": [
    "# create a list, doc_list, with one review per elem\n",
    "doc_list = []\n",
    "rating = []\n",
    "prod_id = []\n",
    "for i in range(0,len(json_dat)):\n",
    "    if json_dat[i].get('summary'): #not all reviews have summary text\n",
    "        rating.append(json_dat[i].get('overall'))\n",
    "        doc_list.append(json_dat[i].get('summary'))\n",
    "        prod_id.append(json_dat[i].get('asin'))"
   ]
  },
  {
   "cell_type": "code",
   "execution_count": 23,
   "metadata": {},
   "outputs": [],
   "source": [
    "def preprocess_data(doc_set):\n",
    "    \"\"\"\n",
    "    Input  : docuemnt list\n",
    "    Purpose: preprocess text (tokenize, removing stopwords, and stemming)\n",
    "    Output : preprocessed text\n",
    "    \"\"\"\n",
    "    # initialize regex tokenizer\n",
    "    tokenizer = RegexpTokenizer(r'\\w+')\n",
    "    # create English stop words list\n",
    "    en_stop = set(stopwords.words('english'))\n",
    "    # Create p_stemmer of class PorterStemmer\n",
    "    p_stemmer = PorterStemmer()\n",
    "    # list for tokenized documents in loop\n",
    "    texts = []\n",
    "    # loop through document list\n",
    "    for i in doc_set:\n",
    "        # clean and tokenize document string\n",
    "        raw = i.lower()\n",
    "        tokens = tokenizer.tokenize(raw)\n",
    "        # remove stop words from tokens\n",
    "        stopped_tokens = [i for i in tokens if not i in en_stop]\n",
    "        # stem tokens\n",
    "        stemmed_tokens = [p_stemmer.stem(i) for i in stopped_tokens]\n",
    "        # add tokens to list\n",
    "        texts.append(stemmed_tokens)\n",
    "    return texts"
   ]
  },
  {
   "cell_type": "code",
   "execution_count": 24,
   "metadata": {},
   "outputs": [],
   "source": [
    "from multiprocessing import Pool\n",
    "\n",
    "#pool = Pool(4)\n",
    "#x = pool.map(preprocess_data(), [doc_list])\n",
    "#pool.close()\n",
    "#pool.join()\n",
    "\n",
    "#clean_text = x[0]\n",
    "clean_text = preprocess_data(doc_list)"
   ]
  },
  {
   "cell_type": "code",
   "execution_count": 25,
   "metadata": {},
   "outputs": [],
   "source": [
    "# vectorize training data\n",
    "train_lbls = np.array(rating) >= 4.5\n",
    "train_text = clean_text"
   ]
  },
  {
   "cell_type": "code",
   "execution_count": 39,
   "metadata": {},
   "outputs": [
    {
     "name": "stdout",
     "output_type": "stream",
     "text": [
      "Fitting 5 folds for each of 5 candidates, totalling 25 fits\n"
     ]
    },
    {
     "name": "stderr",
     "output_type": "stream",
     "text": [
      "[Parallel(n_jobs=1)]: Using backend SequentialBackend with 1 concurrent workers.\n",
      "[Parallel(n_jobs=1)]: Done  25 out of  25 | elapsed:  3.1min finished\n"
     ]
    },
    {
     "name": "stdout",
     "output_type": "stream",
     "text": [
      "Fitting 5 folds for each of 5 candidates, totalling 25 fits\n"
     ]
    },
    {
     "name": "stderr",
     "output_type": "stream",
     "text": [
      "[Parallel(n_jobs=1)]: Using backend SequentialBackend with 1 concurrent workers.\n",
      "[Parallel(n_jobs=1)]: Done  25 out of  25 | elapsed:  3.5min finished\n"
     ]
    },
    {
     "name": "stdout",
     "output_type": "stream",
     "text": [
      "Fitting 5 folds for each of 5 candidates, totalling 25 fits\n"
     ]
    },
    {
     "name": "stderr",
     "output_type": "stream",
     "text": [
      "[Parallel(n_jobs=1)]: Using backend SequentialBackend with 1 concurrent workers.\n",
      "[Parallel(n_jobs=1)]: Done  25 out of  25 | elapsed:  3.2min finished\n"
     ]
    },
    {
     "name": "stdout",
     "output_type": "stream",
     "text": [
      "Fitting 5 folds for each of 5 candidates, totalling 25 fits\n"
     ]
    },
    {
     "name": "stderr",
     "output_type": "stream",
     "text": [
      "[Parallel(n_jobs=1)]: Using backend SequentialBackend with 1 concurrent workers.\n",
      "[Parallel(n_jobs=1)]: Done  25 out of  25 | elapsed:  3.2min finished\n"
     ]
    },
    {
     "name": "stdout",
     "output_type": "stream",
     "text": [
      "Fitting 5 folds for each of 5 candidates, totalling 25 fits\n"
     ]
    },
    {
     "name": "stderr",
     "output_type": "stream",
     "text": [
      "[Parallel(n_jobs=1)]: Using backend SequentialBackend with 1 concurrent workers.\n",
      "[Parallel(n_jobs=1)]: Done  25 out of  25 | elapsed:  3.4min finished\n"
     ]
    },
    {
     "name": "stdout",
     "output_type": "stream",
     "text": [
      "Fitting 5 folds for each of 5 candidates, totalling 25 fits\n"
     ]
    },
    {
     "name": "stderr",
     "output_type": "stream",
     "text": [
      "[Parallel(n_jobs=1)]: Using backend SequentialBackend with 1 concurrent workers.\n",
      "[Parallel(n_jobs=1)]: Done  25 out of  25 | elapsed:  3.2min finished\n"
     ]
    },
    {
     "name": "stdout",
     "output_type": "stream",
     "text": [
      "Fitting 5 folds for each of 5 candidates, totalling 25 fits\n"
     ]
    },
    {
     "name": "stderr",
     "output_type": "stream",
     "text": [
      "[Parallel(n_jobs=1)]: Using backend SequentialBackend with 1 concurrent workers.\n",
      "[Parallel(n_jobs=1)]: Done  25 out of  25 | elapsed:  3.1min finished\n"
     ]
    },
    {
     "name": "stdout",
     "output_type": "stream",
     "text": [
      "Fitting 5 folds for each of 5 candidates, totalling 25 fits\n"
     ]
    },
    {
     "name": "stderr",
     "output_type": "stream",
     "text": [
      "[Parallel(n_jobs=1)]: Using backend SequentialBackend with 1 concurrent workers.\n",
      "[Parallel(n_jobs=1)]: Done  25 out of  25 | elapsed:  3.0min finished\n"
     ]
    },
    {
     "name": "stdout",
     "output_type": "stream",
     "text": [
      "Fitting 5 folds for each of 5 candidates, totalling 25 fits\n"
     ]
    },
    {
     "name": "stderr",
     "output_type": "stream",
     "text": [
      "[Parallel(n_jobs=1)]: Using backend SequentialBackend with 1 concurrent workers.\n",
      "[Parallel(n_jobs=1)]: Done  25 out of  25 | elapsed:  2.8min finished\n"
     ]
    },
    {
     "name": "stdout",
     "output_type": "stream",
     "text": [
      "Fitting 5 folds for each of 5 candidates, totalling 25 fits\n"
     ]
    },
    {
     "name": "stderr",
     "output_type": "stream",
     "text": [
      "[Parallel(n_jobs=1)]: Using backend SequentialBackend with 1 concurrent workers.\n",
      "[Parallel(n_jobs=1)]: Done  25 out of  25 | elapsed:  3.2min finished\n"
     ]
    },
    {
     "name": "stdout",
     "output_type": "stream",
     "text": [
      "2024.9758689403534\n"
     ]
    }
   ],
   "source": [
    "# estimate classifier accuracy\n",
    "from sklearn.model_selection import cross_val_predict, GroupKFold, GridSearchCV\n",
    "from sklearn.tree import DecisionTreeClassifier\n",
    "from sklearn.ensemble import BaggingClassifier\n",
    "\n",
    "# similar to sklearn's but allows us to do some balancing operations that are\n",
    "# important for decision trees\n",
    "from imblearn.pipeline import Pipeline\n",
    "from imblearn.under_sampling import RandomUnderSampler\n",
    "\n",
    "bowGen = doc2Bow()\n",
    "bowGen = bowGen.fit(train_text)\n",
    "my_dict = bowGen.this_dict\n",
    "\n",
    "# GroupKFold gives you a KFold partitioner that abides by\n",
    "# product labels so that products are only ever in a single\n",
    "# fold\n",
    "gkf = GroupKFold(n_splits=10)\n",
    "cv = gkf.split(train_text, train_lbls, groups=prod_id)\n",
    "\n",
    "time0 = time.time()\n",
    "\n",
    "params = {\n",
    "    'baseClf__max_depth': [3, 5, 7, 10, 15],\n",
    "    'baseClf__min_samples_leaf': [1],\n",
    "    'baseClf__max_leaf_nodes': [20],\n",
    "}\n",
    "\n",
    "# pick a classifier\n",
    "bow2Top = docTopTransformer(this_dict=my_dict)\n",
    "baseClf = DecisionTreeClassifier()\n",
    "\n",
    "estimators = [('projection', bow2Top), ('baseClf', baseClf)]\n",
    "semClf = Pipeline(estimators)\n",
    "\n",
    "grid_DT = GridSearchCV(estimator = semClf, param_grid = params, scoring = 'f1_macro', \n",
    "                       cv = 5, verbose = 1, n_jobs = 1)\n",
    "\n",
    "n_estimators=10\n",
    "clf = BaggingClassifier(base_estimator=grid_DT, \n",
    "                        bootstrap=True, max_samples = 3.0/n_estimators, n_estimators=n_estimators,\n",
    "                        n_jobs=1)\n",
    "\n",
    "\n",
    "# create a pipeline that transforms data to semantic space, \n",
    "# and then classifies them by averaging over n_estimators of \n",
    "# type baseClf\n",
    "#\n",
    "# Note, you could bag over n semantic models too by creating\n",
    "# a pipeline using bow2Top and baseClf, and then passing that\n",
    "# in as th base_estimator argument of a BaggingClassifier\n",
    "# instance. If you think bagging classification of reviews will\n",
    "# lead to better classification performance for theoretical\n",
    "# reasons, this would be the way to go, however the purpose\n",
    "# of bagging here is for to avoid a bypass the slow SVM fitting\n",
    "# procedure\n",
    "undersamp = RandomUnderSampler(replacement=False)\n",
    "estimators = [('projection', bowGen), ('clf', clf)]\n",
    "semBagClf = Pipeline(estimators)\n",
    "semBagClf.fit(train_text, train_lbls)\n",
    "\n",
    "\n",
    "time1 = time.time()\n",
    "print(time1-time0)"
   ]
  },
  {
   "cell_type": "code",
   "execution_count": null,
   "metadata": {},
   "outputs": [],
   "source": [
    "#Prediction cell\n",
    "import json\n",
    "import math\n",
    "\n",
    "#read in the file\n",
    "path = '../data/Sports_and_Outdoors_Reviews_test.json'\n",
    "with open(path, 'r') as fp:\n",
    "    all_reviews = [json.loads(x) for x in fp.readlines()]\n",
    "\n",
    "# create a list, doc_list, with one review per elem\n",
    "test_doc_list = []\n",
    "test_prod_id = []\n",
    "test_reviewer_id = []\n",
    "test_unixreviewtime = []\n",
    "for i in range(0,len(all_reviews)):\n",
    "    if all_reviews[i].get('summary'): #not all reviews have summary text\n",
    "        test_doc_list.append(all_reviews[i].get('summary'))\n",
    "        test_prod_id.append(all_reviews[i].get('asin'))\n",
    "        test_reviewer_id.append(all_reviews[i].get('reviewerID'))\n",
    "        test_unixreviewtime.append(all_reviews[i].get('unixReviewTime'))\n",
    "\n",
    "clean_text_test=preprocess_data(test_doc_list)\n",
    "prediction = semBagClf.predict(clean_text_test)\n",
    "\n",
    "\n",
    "# Create output file\n",
    "dat = np.column_stack((test_prod_id, test_reviewer_id, prediction.astype(int), test_unixreviewtime))\n",
    "np.savetxt(\"Sports_and_Outdoors_Ratings_test.csv\", dat, delimiter=\",\", fmt=['%s','%s'], \n",
    "           header='asin,reviewerID,awesomeReview,unixReviewTime')"
   ]
  },
  {
   "cell_type": "code",
   "execution_count": null,
   "metadata": {},
   "outputs": [],
   "source": [
    "end_time = time.time()\n",
    "print(end_time-start_time)"
   ]
  }
 ],
 "metadata": {
  "kernelspec": {
   "display_name": "Python 3",
   "language": "python",
   "name": "python3"
  },
  "language_info": {
   "codemirror_mode": {
    "name": "ipython",
    "version": 3
   },
   "file_extension": ".py",
   "mimetype": "text/x-python",
   "name": "python",
   "nbconvert_exporter": "python",
   "pygments_lexer": "ipython3",
   "version": "3.7.6"
  }
 },
 "nbformat": 4,
 "nbformat_minor": 4
}
